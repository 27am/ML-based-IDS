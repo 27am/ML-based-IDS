{
 "cells": [
  {
   "cell_type": "code",
   "execution_count": 197,
   "metadata": {},
   "outputs": [],
   "source": [
    "# let's import all the dependencies at once \n",
    "\n",
    "from __future__ import print_function\n",
    "import itertools\n",
    "import mxnet as mx\n",
    "from mxnet import gluon, nd, autograd\n",
    "import numpy as np\n",
    "import pandas as pd\n",
    "import os\n",
    "import random\n",
    "\n",
    "from sklearn import datasets\n",
    "from sklearn.utils import shuffle\n",
    "from sklearn.model_selection import train_test_split\n",
    "from sklearn.metrics import confusion_matrix as cmatrix\n",
    "from sklearn.metrics import accuracy_score, precision_score, recall_score, f1_score\n",
    "#from sklearn.cross_validation import cross_val_score\n",
    "from sklearn import metrics\n",
    "\n",
    "#import models\n",
    "from sklearn import svm\n",
    "from sklearn.ensemble import RandomForestClassifier\n",
    "from sklearn.linear_model import LogisticRegression\n",
    "from sklearn.naive_bayes import GaussianNB\n",
    "from sklearn.neighbors import KNeighborsClassifier\n",
    "from sklearn.manifold import TSNE\n",
    "from sklearn.preprocessing import MinMaxScaler\n",
    "\n",
    "\n",
    "#plots\n",
    "import seaborn as sns\n",
    "import matplotlib.pyplot as plt\n",
    "#import plotly.plotly as py\n",
    "#import plotly.graph_objs as go\n",
    "\n",
    "\n",
    "ctx = mx.gpu()\n",
    "mx.random.seed(42)         # fix the random seed for reproducibility\n",
    "#model_ctx = mx.gpu(0)"
   ]
  },
  {
   "cell_type": "code",
   "execution_count": 198,
   "metadata": {},
   "outputs": [],
   "source": [
    "### Read the dataset ###\n",
    "\n",
    "my_cols = pd.read_csv(\"KDDlabels.csv\", header=-1)\n",
    "\n",
    "### TRAIN ###\n",
    "df = pd.read_csv(\"KDDTrain.csv\", header=-1)\n",
    "df.drop(42, axis=1, inplace=True)\n",
    "df.columns = my_cols[0] \n",
    "\n",
    "# we drop this feature because it is always the same\n",
    "df.drop(\"num_outbound_cmds\", axis = 1, inplace = True)\n",
    "\n",
    "### TEST ###\n",
    "test_df = pd.read_csv(\"KDDTest.csv\", header=-1)\n",
    "test_df.drop(42, axis=1, inplace=True)\n",
    "test_df.columns = my_cols[0]\n",
    "\n",
    "# we drop this feature because it is always the same\n",
    "test_df.drop(\"num_outbound_cmds\", axis = 1, inplace = True)"
   ]
  },
  {
   "cell_type": "code",
   "execution_count": 199,
   "metadata": {},
   "outputs": [],
   "source": [
    "# we add a column that keeps track if a sample comes from the test or train\n",
    "df[\"train\"] = True\n",
    "test_df[\"train\"] = False"
   ]
  },
  {
   "cell_type": "code",
   "execution_count": 200,
   "metadata": {},
   "outputs": [
    {
     "data": {
      "text/plain": [
       "(148516, 42)"
      ]
     },
     "execution_count": 200,
     "metadata": {},
     "output_type": "execute_result"
    }
   ],
   "source": [
    "mix_df = df.append(test_df)\n",
    "mix_df.shape"
   ]
  },
  {
   "cell_type": "code",
   "execution_count": 201,
   "metadata": {},
   "outputs": [],
   "source": [
    "mix_df.loc[~mix_df[\"label\"].isin([\"neptune\",\"normal\"]), \"label\"] = 1   # everything that is not neptune or normal\n",
    "mix_df.loc[mix_df[\"label\"] == \"neptune\", \"label\"] = 1   # neptune\n",
    "mix_df.loc[mix_df[\"label\"] == \"normal\", \"label\"] = 0   # normal connection\n",
    "\n",
    "mix_df[\"label_numeric\"] = pd.to_numeric(mix_df[\"label\"])\n",
    "mix_df = mix_df.drop(\"label\", axis = 1)"
   ]
  },
  {
   "cell_type": "code",
   "execution_count": 202,
   "metadata": {},
   "outputs": [
    {
     "data": {
      "text/plain": [
       "0    77053\n",
       "1    71463\n",
       "Name: label_numeric, dtype: int64"
      ]
     },
     "execution_count": 202,
     "metadata": {},
     "output_type": "execute_result"
    }
   ],
   "source": [
    "mix_df[\"label_numeric\"].value_counts()"
   ]
  },
  {
   "cell_type": "code",
   "execution_count": 203,
   "metadata": {},
   "outputs": [],
   "source": [
    "# we decide to work with only 13 features\n",
    "\n",
    "f13 = [\"duration\", \"protocol_type\", \"service\", \"src_bytes\", \"dst_bytes\",\n",
    "       \"urgent\", \"count\", \"srv_count\", \"same_srv_rate\", \"dst_host_count\",\n",
    "       \"dst_host_srv_count\", \"dst_host_same_srv_rate\", \"dst_host_same_src_port_rate\", \"label_numeric\", \"train\"]\n",
    "\n",
    "\n",
    "restricted_mdf = mix_df.loc[:, f13]\n",
    "restricted_mdf = pd.get_dummies(data = restricted_mdf, columns = [\"protocol_type\", \"service\"])"
   ]
  },
  {
   "cell_type": "code",
   "execution_count": 204,
   "metadata": {},
   "outputs": [
    {
     "name": "stderr",
     "output_type": "stream",
     "text": [
      "/usr/local/lib/python3.5/dist-packages/ipykernel_launcher.py:3: SettingWithCopyWarning: \n",
      "A value is trying to be set on a copy of a slice from a DataFrame\n",
      "\n",
      "See the caveats in the documentation: http://pandas.pydata.org/pandas-docs/stable/indexing.html#indexing-view-versus-copy\n",
      "  This is separate from the ipykernel package so we can avoid doing imports until\n",
      "/usr/local/lib/python3.5/dist-packages/ipykernel_launcher.py:8: SettingWithCopyWarning: \n",
      "A value is trying to be set on a copy of a slice from a DataFrame\n",
      "\n",
      "See the caveats in the documentation: http://pandas.pydata.org/pandas-docs/stable/indexing.html#indexing-view-versus-copy\n",
      "  \n"
     ]
    }
   ],
   "source": [
    "# creating the test and train dataset\n",
    "test = restricted_mdf[restricted_mdf[\"train\"] == False]\n",
    "test.drop(\"train\", axis = 1, inplace = True)\n",
    "x_test = test.drop(\"label_numeric\", axis = 1)\n",
    "y_test = test[\"label_numeric\"]\n",
    "\n",
    "x_darpa = restricted_mdf[restricted_mdf[\"train\"] == True]    #label_n is the numeric version\n",
    "x_darpa.drop(\"train\", axis=1, inplace=True)\n",
    "y_darpa = x_darpa[\"label_numeric\"]\n",
    "x_darpa = x_darpa.drop(\"label_numeric\", axis = 1)"
   ]
  },
  {
   "cell_type": "code",
   "execution_count": 205,
   "metadata": {},
   "outputs": [
    {
     "name": "stderr",
     "output_type": "stream",
     "text": [
      "/usr/local/lib/python3.5/dist-packages/sklearn/utils/validation.py:444: DataConversionWarning: Data with input dtype int64 was converted to float64 by MinMaxScaler.\n",
      "  warnings.warn(msg, DataConversionWarning)\n"
     ]
    }
   ],
   "source": [
    "### NORMALIZATION ###\n",
    "\n",
    "columns_to_normalize = [\"duration\", \"src_bytes\", \"dst_bytes\", \"count\", \"srv_count\", \"dst_host_count\", \"dst_host_srv_count\" ]\n",
    "\n",
    "## TRAIN normalization\n",
    "x_darpa_copy = x_darpa.copy()\n",
    "x_darpa_scaled = x_darpa_copy[columns_to_normalize]\n",
    "scaler = MinMaxScaler().fit(x_darpa_scaled.values)\n",
    "x_darpa_scaled = scaler.transform(x_darpa_scaled.values)\n",
    "\n",
    "x_darpa[columns_to_normalize] = x_darpa_scaled\n",
    "\n",
    "\n",
    "# TEST normalization\n",
    "x_test_copy = x_test.copy()\n",
    "x_test_scaled = x_test_copy[columns_to_normalize]\n",
    "#scaler = MinMaxScaler().fit(x_darpa_scaled.values)\n",
    "x_test_scaled = scaler.transform(x_test_scaled.values)           #to transform we use the SCALER calculated in the training\n",
    "\n",
    "x_test[columns_to_normalize] = x_test_scaled"
   ]
  },
  {
   "cell_type": "markdown",
   "metadata": {},
   "source": [
    "## ---Three Classes--- ##"
   ]
  },
  {
   "cell_type": "markdown",
   "metadata": {},
   "source": [
    "### Model to distinguish Normal and Neptune with don't know possibility  ###"
   ]
  },
  {
   "cell_type": "code",
   "execution_count": 57,
   "metadata": {},
   "outputs": [
    {
     "data": {
      "text/plain": [
       "(125973, 84)"
      ]
     },
     "execution_count": 57,
     "metadata": {},
     "output_type": "execute_result"
    }
   ],
   "source": [
    "x_darpa.shape"
   ]
  },
  {
   "cell_type": "code",
   "execution_count": 56,
   "metadata": {},
   "outputs": [
    {
     "data": {
      "text/plain": [
       "0    67343\n",
       "1    41214\n",
       "2    17416\n",
       "Name: label_numeric, dtype: int64"
      ]
     },
     "execution_count": 56,
     "metadata": {},
     "output_type": "execute_result"
    }
   ],
   "source": [
    "y_darpa.value_counts()"
   ]
  },
  {
   "cell_type": "code",
   "execution_count": 206,
   "metadata": {},
   "outputs": [],
   "source": [
    "# divido in maniera random (comportamento di default)\n",
    "x_train, x_cv, y_train, y_cv = train_test_split(x_darpa, y_darpa, test_size = 0.2, random_state = 42)"
   ]
  },
  {
   "cell_type": "code",
   "execution_count": 207,
   "metadata": {},
   "outputs": [
    {
     "data": {
      "text/plain": [
       "0    53921\n",
       "1    46857\n",
       "Name: label_numeric, dtype: int64"
      ]
     },
     "execution_count": 207,
     "metadata": {},
     "output_type": "execute_result"
    }
   ],
   "source": [
    "y_train.value_counts()"
   ]
  },
  {
   "cell_type": "code",
   "execution_count": 208,
   "metadata": {},
   "outputs": [
    {
     "name": "stderr",
     "output_type": "stream",
     "text": [
      "/usr/local/lib/python3.5/dist-packages/ipykernel_launcher.py:5: DeprecationWarning: \n",
      ".ix is deprecated. Please use\n",
      ".loc for label based indexing or\n",
      ".iloc for positional indexing\n",
      "\n",
      "See the documentation here:\n",
      "http://pandas.pydata.org/pandas-docs/stable/indexing.html#ix-indexer-is-deprecated\n",
      "  \"\"\"\n"
     ]
    }
   ],
   "source": [
    "# sample randomly 30000\n",
    "rows = random.sample(list(y_train.index), 50000)\n",
    "\n",
    "# set those to a new class, the \"don't know\" class\n",
    "y_train.ix[rows] = 2"
   ]
  },
  {
   "cell_type": "code",
   "execution_count": 209,
   "metadata": {},
   "outputs": [
    {
     "data": {
      "text/plain": [
       "2    50000\n",
       "0    27059\n",
       "1    23719\n",
       "Name: label_numeric, dtype: int64"
      ]
     },
     "execution_count": 209,
     "metadata": {},
     "output_type": "execute_result"
    }
   ],
   "source": [
    "y_train.value_counts()"
   ]
  },
  {
   "cell_type": "markdown",
   "metadata": {
    "collapsed": true
   },
   "source": [
    "# Gluon, Artificial Neural Nets (ANN) #"
   ]
  },
  {
   "cell_type": "markdown",
   "metadata": {},
   "source": [
    "### MLP ###"
   ]
  },
  {
   "cell_type": "code",
   "execution_count": 219,
   "metadata": {},
   "outputs": [],
   "source": [
    "batch_s = 256\n",
    "\n",
    "train_iter = gluon.data.DataLoader(gluon.data.ArrayDataset(x_train.as_matrix(), y_train.as_matrix()), batch_size=batch_s, shuffle=True)\n",
    "cv_iter  = gluon.data.DataLoader(gluon.data.ArrayDataset(x_cv.as_matrix(), y_cv.as_matrix()), batch_size=batch_s, shuffle=False)\n",
    "test_iter  = gluon.data.DataLoader(gluon.data.ArrayDataset(x_test.as_matrix(), y_test.as_matrix()), batch_size=batch_s, shuffle=False)"
   ]
  },
  {
   "cell_type": "code",
   "execution_count": 220,
   "metadata": {},
   "outputs": [],
   "source": [
    "num_hidden = 40  \n",
    "num_outputs = 3  #quanti il numero delle classi, di certo è importante che non sia meno! \n",
    "\n",
    "net = gluon.nn.Sequential()\n",
    "\n",
    "with net.name_scope():\n",
    "    net.add(gluon.nn.Dense(num_hidden, activation=\"relu\"))\n",
    "    net.add(gluon.nn.Dense(num_hidden, activation=\"relu\"))\n",
    "    net.add(gluon.nn.Dense(num_outputs))"
   ]
  },
  {
   "cell_type": "code",
   "execution_count": 221,
   "metadata": {},
   "outputs": [],
   "source": [
    "net.collect_params().initialize(mx.init.Normal(sigma = 0.5), ctx = ctx)"
   ]
  },
  {
   "cell_type": "code",
   "execution_count": 222,
   "metadata": {},
   "outputs": [],
   "source": [
    "loss_f = gluon.loss.SoftmaxCrossEntropyLoss()  # sparse_label=False per specificare one-hot"
   ]
  },
  {
   "cell_type": "code",
   "execution_count": 223,
   "metadata": {},
   "outputs": [],
   "source": [
    "lr = 0.0003 # learning rate\n",
    "trainer = gluon.Trainer(net.collect_params(), \"adam\", {\"learning_rate\": lr})"
   ]
  },
  {
   "cell_type": "code",
   "execution_count": 224,
   "metadata": {},
   "outputs": [],
   "source": [
    "# hot evaluation\n",
    "\n",
    "smoothing_constant = 0.01\n",
    "\n",
    "def evaluate_accuracy(data_iterator, net):\n",
    "    \n",
    "    acc = mx.metric.Accuracy()\n",
    "    \n",
    "    loss_avg = 0.0\n",
    "    cumulative_loss = 0.0\n",
    "    \n",
    "    for i, (data, label) in enumerate(data_iterator):\n",
    "        data = data.as_in_context(ctx).astype(np.float32)\n",
    "        label = label.as_in_context(ctx).astype(np.float32)\n",
    "        \n",
    "        output = net(data)\n",
    "        \n",
    "        loss = loss_f(output, label) \n",
    "        predictions = nd.argmax(output, axis = 1)\n",
    "        acc.update(preds = predictions, labels = label)\n",
    "                \n",
    "        curr_loss = nd.mean(loss).asscalar()\n",
    "        moving_loss = curr_loss if (i == 0) else (1 - smoothing_constant) * moving_loss + smoothing_constant * curr_loss\n",
    "                       \n",
    "        \n",
    "    return acc.get()[1], moving_loss"
   ]
  },
  {
   "cell_type": "code",
   "execution_count": 225,
   "metadata": {
    "scrolled": true
   },
   "outputs": [
    {
     "name": "stdout",
     "output_type": "stream",
     "text": [
      "Epoch 0 -> Train_acc 0.497658219056. CV_accuracy 0.463068069061. Test_acc 0.339795058333\n",
      "Epoch 1 -> Train_acc 0.500069459604. CV_accuracy 0.705655884104. Test_acc 0.567892472164\n",
      "Epoch 2 -> Train_acc 0.501845640914. CV_accuracy 0.573526493352. Test_acc 0.437696846028\n",
      "Epoch 3 -> Train_acc 0.502738692969. CV_accuracy 0.58142488589. Test_acc 0.454509160271\n",
      "Epoch 4 -> Train_acc 0.502490622953. CV_accuracy 0.353085929748. Test_acc 0.239142971211\n",
      "Epoch 5 -> Train_acc 0.500337375221. CV_accuracy 0.458662433022. Test_acc 0.304839639799\n",
      "Epoch 6 -> Train_acc 0.50374089583. CV_accuracy 0.431712641397. Test_acc 0.30213370004\n",
      "Epoch 7 -> Train_acc 0.505993371569. CV_accuracy 0.640285770986. Test_acc 0.488577385441\n",
      "Epoch 8 -> Train_acc 0.504564488281. CV_accuracy 0.586465568565. Test_acc 0.429445947744\n",
      "Epoch 9 -> Train_acc 0.503125682193. CV_accuracy 0.234054375868. Test_acc 0.168034423103\n"
     ]
    }
   ],
   "source": [
    "# TRAINING\n",
    "\n",
    "epochs = 10\n",
    "\n",
    "loss_evolution_train = []\n",
    "loss_evolution_cv = []\n",
    "loss_evolution_test = []\n",
    "\n",
    "accuracy_evolution_train = []\n",
    "accuracy_evolution_cv = []\n",
    "accuracy_evolution_test = []\n",
    "\n",
    "\n",
    "for e in range(epochs):\n",
    "    for i, (data, label) in enumerate(train_iter):\n",
    "        \n",
    "        data = data.as_in_context(ctx).astype(np.float32)\n",
    "        label = label.as_in_context(ctx).astype(np.float32)\n",
    "        \n",
    "        with autograd.record():\n",
    "            output = net(data)\n",
    "            loss = loss_f(output, label)\n",
    "            \n",
    "        loss.backward()\n",
    "        trainer.step(data.shape[0])\n",
    "    \n",
    "    \n",
    "    train_accuracy, train_loss = evaluate_accuracy(train_iter, net)\n",
    "    cv_accuracy, cv_loss       = evaluate_accuracy(cv_iter, net)\n",
    "    test_accuracy, test_loss   = evaluate_accuracy(test_iter, net)\n",
    "    \n",
    "    # save them for later\n",
    "    loss_evolution_train.append(train_loss)\n",
    "    loss_evolution_cv.append(cv_loss)\n",
    "    loss_evolution_test.append(test_loss)\n",
    "    \n",
    "    accuracy_evolution_train.append(train_accuracy)\n",
    "    accuracy_evolution_cv.append(cv_accuracy)\n",
    "    accuracy_evolution_test.append(test_accuracy)\n",
    "    \n",
    "    \n",
    "    print(\"Epoch %s -> Train_acc %s. CV_accuracy %s. Test_acc %s\" % (e,  train_accuracy, cv_accuracy, test_accuracy))\n",
    "      "
   ]
  },
  {
   "cell_type": "markdown",
   "metadata": {},
   "source": [
    "#### plots ####"
   ]
  },
  {
   "cell_type": "code",
   "execution_count": 128,
   "metadata": {
    "scrolled": false
   },
   "outputs": [
    {
     "data": {
      "image/png": "[encoded data removed]",
      "text/plain": [
       "<matplotlib.figure.Figure at 0x7f2ca6a8c828>"
      ]
     },
     "metadata": {},
     "output_type": "display_data"
    }
   ],
   "source": [
    "sns.set_style(\"whitegrid\")\n",
    "\n",
    "plt.figure(figsize=(16, 8))\n",
    "plt.subplot(121)\n",
    "\n",
    "plt.plot(loss_evolution_train, color=\"g\")\n",
    "plt.plot(loss_evolution_cv, color=\"b\")\n",
    "plt.plot(loss_evolution_test, color=\"r\")    # qui c'è qualcosa che non va.... le curve dovrebbero essere invertite\n",
    "#plt.title(\"Comparing Loss Functions\", fontsize=20)\n",
    "plt.xlabel(\"Epochs\", fontsize=20)\n",
    "plt.ylabel(\"Loss\", fontsize=20)\n",
    "plt.legend([\"Train\", \"CrossVal\", \"Test\"], fontsize=20)\n",
    "\n",
    "plt.subplot(122)\n",
    "plt.plot(accuracy_evolution_train, color=\"g\")\n",
    "plt.plot(accuracy_evolution_cv, color=\"b\")\n",
    "plt.plot(accuracy_evolution_test, color=\"r\")    # qui c'è qualcosa che non va.... le curve dovrebbero essere invertite\n",
    "#plt.title(\"Comparing Accuracies\", fontsize=20)\n",
    "plt.xlabel(\"Epochs\", fontsize=20)\n",
    "plt.ylabel(\"Accuracy\", fontsize=20)\n",
    "plt.legend([\"Train\", \"CrossVal\", \"Test\"], fontsize=20)\n",
    "\n",
    "plt.show()"
   ]
  },
  {
   "cell_type": "code",
   "execution_count": 226,
   "metadata": {},
   "outputs": [
    {
     "name": "stdout",
     "output_type": "stream",
     "text": [
      "Total correctly classified samples: 5897. Total wrongly classified samples: 19298. \n"
     ]
    }
   ],
   "source": [
    "### COLD EVALUATION ###\n",
    "# to be run when the neural network is trained\n",
    "\n",
    "total_correctly_classified = 0 \n",
    "total_wrongly_classified = 0\n",
    "\n",
    "predictions_received = []\n",
    "labels_received = []\n",
    "\n",
    "for i, (data, label) in enumerate(cv_iter):  # input: train_iter o anche test_iter o cv_iter\n",
    "    \n",
    "    currently_correctly_classified = 0\n",
    "    currently_wrongly_classified = 0\n",
    "    \n",
    "    data = data.as_in_context(ctx).astype(np.float32)\n",
    "    label = label.as_in_context(ctx).astype(np.float32)    \n",
    "\n",
    "    \n",
    "    output = net(data) #feed input in the net\n",
    "    \n",
    "    ground_output = nd.argmax(output, axis = 1)\n",
    "    ground_truth  = label\n",
    "    \n",
    "    \n",
    "    for x,y in zip(ground_output, ground_truth):\n",
    "        \n",
    "        predictions_received.append(x.asscalar())\n",
    "        labels_received.append(y.asscalar())\n",
    "        \n",
    "        if x.asscalar() == y.asscalar():\n",
    "            currently_correctly_classified += 1\n",
    "        else:\n",
    "            currently_wrongly_classified += 1\n",
    "        \n",
    "    #print (\"Batch number: %s \" %(i + 1), end=\"\")\n",
    "    #print(currently_correctly_classified, currently_wrongly_classified)\n",
    "    #print(\"-\" * 40)\n",
    "\n",
    "    #keep track of global trend\n",
    "    total_correctly_classified += currently_correctly_classified\n",
    "    total_wrongly_classified += currently_wrongly_classified   \n",
    "    \n",
    "    #resetting variables for next iteration\n",
    "    currently_correctly_classified = 0\n",
    "    currently_wrongly_classified = 0\n",
    "    \n",
    "print(\"Total correctly classified samples: %s. Total wrongly classified samples: %s. \" %(total_correctly_classified, total_wrongly_classified))"
   ]
  },
  {
   "cell_type": "code",
   "execution_count": 227,
   "metadata": {},
   "outputs": [
    {
     "data": {
      "text/plain": [
       "25195"
      ]
     },
     "execution_count": 227,
     "metadata": {},
     "output_type": "execute_result"
    }
   ],
   "source": [
    "len(labels_received)"
   ]
  },
  {
   "cell_type": "code",
   "execution_count": 228,
   "metadata": {},
   "outputs": [
    {
     "data": {
      "text/plain": [
       "array([[ 1998,    16,     0],\n",
       "       [   18,  3899,     0],\n",
       "       [11406,  7858,     0]])"
      ]
     },
     "execution_count": 228,
     "metadata": {},
     "output_type": "execute_result"
    }
   ],
   "source": [
    "cm = cmatrix(labels_received, predictions_received).T\n",
    "cm"
   ]
  },
  {
   "cell_type": "code",
   "execution_count": null,
   "metadata": {},
   "outputs": [],
   "source": [
    "array([[8760,    3, 3351],\n",
    "       [   8, 4576,  484],\n",
    "       [ 942,   78, 4341]])"
   ]
  },
  {
   "cell_type": "code",
   "execution_count": 56,
   "metadata": {},
   "outputs": [
    {
     "data": {
      "image/png": "[encoded data removed]",
      "text/plain": [
       "<matplotlib.figure.Figure at 0x7f1f911e00d0>"
      ]
     },
     "metadata": {},
     "output_type": "display_data"
    }
   ],
   "source": [
    "cm = cmatrix(labels_received, predictions_received).T\n",
    "matrix_evaluation(cm)"
   ]
  },
  {
   "cell_type": "markdown",
   "metadata": {
    "collapsed": true
   },
   "source": [
    "# Random Forest (RF) #"
   ]
  },
  {
   "cell_type": "markdown",
   "metadata": {},
   "source": [
    "Random Forest necessita poco preprocessing delle feature. Il target deve essere numerico sequenziale"
   ]
  },
  {
   "cell_type": "code",
   "execution_count": 210,
   "metadata": {},
   "outputs": [],
   "source": [
    "# cross validation on the training set\n",
    "clf = RandomForestClassifier(n_jobs = 4, random_state = 42) #Initialize with whatever parameters you want to"
   ]
  },
  {
   "cell_type": "code",
   "execution_count": 211,
   "metadata": {},
   "outputs": [
    {
     "data": {
      "text/plain": [
       "RandomForestClassifier(bootstrap=True, class_weight=None, criterion='gini',\n",
       "            max_depth=None, max_features='auto', max_leaf_nodes=None,\n",
       "            min_impurity_decrease=0.0, min_impurity_split=None,\n",
       "            min_samples_leaf=1, min_samples_split=2,\n",
       "            min_weight_fraction_leaf=0.0, n_estimators=10, n_jobs=4,\n",
       "            oob_score=False, random_state=42, verbose=0, warm_start=False)"
      ]
     },
     "execution_count": 211,
     "metadata": {},
     "output_type": "execute_result"
    }
   ],
   "source": [
    "#start random forest training\n",
    "clf.fit(x_train, y_train)"
   ]
  },
  {
   "cell_type": "code",
   "execution_count": 212,
   "metadata": {},
   "outputs": [],
   "source": [
    "predictions_cv = clf.predict(x_cv)\n",
    "predictions_test = clf.predict(x_test)     # raises error because get_dummy creates features number mismatch"
   ]
  },
  {
   "cell_type": "code",
   "execution_count": 213,
   "metadata": {},
   "outputs": [
    {
     "data": {
      "text/plain": [
       "array([2, 1, 1, ..., 2, 2, 1])"
      ]
     },
     "execution_count": 213,
     "metadata": {},
     "output_type": "execute_result"
    }
   ],
   "source": [
    "predictions_cv"
   ]
  },
  {
   "cell_type": "code",
   "execution_count": 214,
   "metadata": {},
   "outputs": [
    {
     "data": {
      "text/plain": [
       "array([2, 1, 2, ..., 1, 0, 2])"
      ]
     },
     "execution_count": 214,
     "metadata": {},
     "output_type": "execute_result"
    }
   ],
   "source": [
    "predictions_test"
   ]
  },
  {
   "cell_type": "code",
   "execution_count": 215,
   "metadata": {},
   "outputs": [],
   "source": [
    "cm_cv = cmatrix(y_cv, predictions_cv).T\n",
    "cm_test = cmatrix(y_test, predictions_test).T"
   ]
  },
  {
   "cell_type": "code",
   "execution_count": 216,
   "metadata": {},
   "outputs": [
    {
     "data": {
      "text/plain": [
       "(22543,)"
      ]
     },
     "execution_count": 216,
     "metadata": {},
     "output_type": "execute_result"
    }
   ],
   "source": [
    "y_test.shape"
   ]
  },
  {
   "cell_type": "code",
   "execution_count": 217,
   "metadata": {},
   "outputs": [
    {
     "data": {
      "text/plain": [
       "array([[6948,   24,    0],\n",
       "       [  15, 6318,    0],\n",
       "       [6459, 5431,    0]])"
      ]
     },
     "execution_count": 217,
     "metadata": {},
     "output_type": "execute_result"
    }
   ],
   "source": [
    "cm_cv"
   ]
  },
  {
   "cell_type": "code",
   "execution_count": 180,
   "metadata": {},
   "outputs": [
    {
     "data": {
      "text/plain": [
       "0.9973030677604225"
      ]
     },
     "execution_count": 180,
     "metadata": {},
     "output_type": "execute_result"
    }
   ],
   "source": [
    "8875 / (8875 + 4 + 20)"
   ]
  },
  {
   "cell_type": "code",
   "execution_count": 103,
   "metadata": {},
   "outputs": [
    {
     "data": {
      "text/plain": [
       "0.9995419567607182"
      ]
     },
     "execution_count": 103,
     "metadata": {},
     "output_type": "execute_result"
    }
   ],
   "source": [
    "10911 / (10911 + 5)\n",
    "\n",
    "# ABBIAMO SUI TRUE POSITIVE UNA PRECISION ALTA! OTTIMO"
   ]
  },
  {
   "cell_type": "code",
   "execution_count": 218,
   "metadata": {},
   "outputs": [
    {
     "data": {
      "text/plain": [
       "array([[4847, 1676,    0],\n",
       "       [ 163, 4330,    0],\n",
       "       [4700, 6827,    0]])"
      ]
     },
     "execution_count": 218,
     "metadata": {},
     "output_type": "execute_result"
    }
   ],
   "source": [
    "cm_test"
   ]
  },
  {
   "cell_type": "code",
   "execution_count": 91,
   "metadata": {},
   "outputs": [
    {
     "data": {
      "image/png": "[encoded data removed]",
      "text/plain": [
       "<matplotlib.figure.Figure at 0x7f53d132c1d0>"
      ]
     },
     "metadata": {},
     "output_type": "display_data"
    }
   ],
   "source": [
    "#confusion matrices\n",
    "\n",
    "matrix_evaluation(cm_cv)\n",
    "#matrix_evaluation(cm_test)"
   ]
  },
  {
   "cell_type": "code",
   "execution_count": 33,
   "metadata": {},
   "outputs": [
    {
     "ename": "NameError",
     "evalue": "name 'numeric_evaluation' is not defined",
     "output_type": "error",
     "traceback": [
      "\u001b[0;31m---------------------------------------------------------------------------\u001b[0m",
      "\u001b[0;31mNameError\u001b[0m                                 Traceback (most recent call last)",
      "\u001b[0;32m<ipython-input-33-515c9763f648>\u001b[0m in \u001b[0;36m<module>\u001b[0;34m()\u001b[0m\n\u001b[0;32m----> 1\u001b[0;31m \u001b[0mnumeric_evaluation\u001b[0m\u001b[0;34m(\u001b[0m\u001b[0my_cv\u001b[0m\u001b[0;34m,\u001b[0m \u001b[0mpredictions_cv\u001b[0m\u001b[0;34m)\u001b[0m\u001b[0;34m\u001b[0m\u001b[0m\n\u001b[0m",
      "\u001b[0;31mNameError\u001b[0m: name 'numeric_evaluation' is not defined"
     ]
    }
   ],
   "source": [
    "numeric_evaluation(y_cv, predictions_cv)"
   ]
  },
  {
   "cell_type": "code",
   "execution_count": 93,
   "metadata": {},
   "outputs": [
    {
     "ename": "NameError",
     "evalue": "name 'y_test' is not defined",
     "output_type": "error",
     "traceback": [
      "\u001b[0;31m---------------------------------------------------------------------------\u001b[0m",
      "\u001b[0;31mNameError\u001b[0m                                 Traceback (most recent call last)",
      "\u001b[0;32m<ipython-input-93-96e4f0ad2b65>\u001b[0m in \u001b[0;36m<module>\u001b[0;34m()\u001b[0m\n\u001b[0;32m----> 1\u001b[0;31m \u001b[0mnumeric_evaluation\u001b[0m\u001b[0;34m(\u001b[0m\u001b[0my_test\u001b[0m\u001b[0;34m,\u001b[0m \u001b[0mpredictions_test\u001b[0m\u001b[0;34m)\u001b[0m\u001b[0;34m\u001b[0m\u001b[0m\n\u001b[0m",
      "\u001b[0;31mNameError\u001b[0m: name 'y_test' is not defined"
     ]
    }
   ],
   "source": [
    "numeric_evaluation(y_test, predictions_test)"
   ]
  },
  {
   "cell_type": "markdown",
   "metadata": {},
   "source": [
    "# Support Vector Machine (SVM) #"
   ]
  },
  {
   "cell_type": "code",
   "execution_count": 94,
   "metadata": {},
   "outputs": [],
   "source": [
    "# divido in maniera random tra train e test(comportamento di default)\n",
    "\n",
    "x_train, x_cv, y_train, y_cv = train_test_split(x_darpa, y_darpa, test_size=0.2, random_state=42)"
   ]
  },
  {
   "cell_type": "code",
   "execution_count": 95,
   "metadata": {},
   "outputs": [],
   "source": [
    "clf = svm.SVC(gamma = 0.001, C = 100)"
   ]
  },
  {
   "cell_type": "code",
   "execution_count": 96,
   "metadata": {},
   "outputs": [
    {
     "data": {
      "text/plain": [
       "SVC(C=100, cache_size=200, class_weight=None, coef0=0.0,\n",
       "  decision_function_shape='ovr', degree=3, gamma=0.001, kernel='rbf',\n",
       "  max_iter=-1, probability=False, random_state=None, shrinking=True,\n",
       "  tol=0.001, verbose=False)"
      ]
     },
     "execution_count": 96,
     "metadata": {},
     "output_type": "execute_result"
    }
   ],
   "source": [
    "# model training\n",
    "clf.fit(x_train, y_train)"
   ]
  },
  {
   "cell_type": "code",
   "execution_count": 97,
   "metadata": {},
   "outputs": [],
   "source": [
    "predictions_cv = clf.predict(x_cv)\n",
    "#predictions_test = clf.predict(x_test)"
   ]
  },
  {
   "cell_type": "code",
   "execution_count": 98,
   "metadata": {},
   "outputs": [],
   "source": [
    "cm_cv = cmatrix(y_cv, predictions_cv).T\n",
    "#cm_test = cmatrix(y_test, predictions_test).T"
   ]
  },
  {
   "cell_type": "code",
   "execution_count": 99,
   "metadata": {},
   "outputs": [
    {
     "data": {
      "image/png": "[encoded data removed]",
      "text/plain": [
       "<matplotlib.figure.Figure at 0x7f53d1113f50>"
      ]
     },
     "metadata": {},
     "output_type": "display_data"
    }
   ],
   "source": [
    "#confusion matrices\n",
    "\n",
    "matrix_evaluation(cm_cv)\n",
    "#matrix_evaluation(cm_test)"
   ]
  },
  {
   "cell_type": "code",
   "execution_count": 100,
   "metadata": {},
   "outputs": [
    {
     "name": "stdout",
     "output_type": "stream",
     "text": [
      "Accuracy:  0.904108\n",
      "Precision: [ 0.86146873  0.96921071]\n",
      "Recall:    [ 0.9771271   0.82086129]\n",
      "F1:        [ 0.91566013  0.88888889]\n"
     ]
    }
   ],
   "source": [
    "# in cross-validation\n",
    "numeric_evaluation(y_cv, predictions_cv)"
   ]
  },
  {
   "cell_type": "code",
   "execution_count": 41,
   "metadata": {},
   "outputs": [
    {
     "name": "stdout",
     "output_type": "stream",
     "text": [
      "Accuracy:  0.982568\n",
      "Precision: [ 0.97189506  0.99550451]\n",
      "Recall:    [ 0.99619857  0.96691114]\n",
      "F1:        [ 0.98389675  0.98099952]\n"
     ]
    }
   ],
   "source": [
    "# in test\n",
    "numeric_evaluation(y_test, predictions_test)"
   ]
  },
  {
   "cell_type": "markdown",
   "metadata": {},
   "source": [
    "# Logistic Regression (LR) #"
   ]
  },
  {
   "cell_type": "markdown",
   "metadata": {},
   "source": [
    "puo' essere che funzioni solo con 2 classi"
   ]
  },
  {
   "cell_type": "code",
   "execution_count": 28,
   "metadata": {
    "collapsed": true
   },
   "outputs": [],
   "source": [
    "# divido in maniera random tra train e test(comportamento di default)\n",
    "\n",
    "x_train, x_cv, y_train, y_cv = train_test_split(x_darpa, y_darpa, test_size=0.2, random_state=42)"
   ]
  },
  {
   "cell_type": "code",
   "execution_count": 29,
   "metadata": {
    "collapsed": true
   },
   "outputs": [],
   "source": [
    "clf = LogisticRegression(random_state=42)"
   ]
  },
  {
   "cell_type": "code",
   "execution_count": 30,
   "metadata": {},
   "outputs": [
    {
     "data": {
      "text/plain": [
       "LogisticRegression(C=1.0, class_weight=None, dual=False, fit_intercept=True,\n",
       "          intercept_scaling=1, max_iter=100, multi_class='ovr', n_jobs=1,\n",
       "          penalty='l2', random_state=42, solver='liblinear', tol=0.0001,\n",
       "          verbose=0, warm_start=False)"
      ]
     },
     "execution_count": 30,
     "metadata": {},
     "output_type": "execute_result"
    }
   ],
   "source": [
    "# model training\n",
    "clf.fit(x_train, y_train)"
   ]
  },
  {
   "cell_type": "code",
   "execution_count": 31,
   "metadata": {
    "collapsed": true
   },
   "outputs": [],
   "source": [
    "predictions_cv = clf.predict(x_cv)\n",
    "predictions_test = clf.predict(x_test)"
   ]
  },
  {
   "cell_type": "code",
   "execution_count": 32,
   "metadata": {
    "collapsed": true
   },
   "outputs": [],
   "source": [
    "cm_cv = cmatrix(y_cv, predictions_cv).T\n",
    "cm_test = cmatrix(y_test, predictions_test).T"
   ]
  },
  {
   "cell_type": "code",
   "execution_count": 33,
   "metadata": {},
   "outputs": [
    {
     "data": {
      "image/png": "[encoded data removed]",
      "text/plain": [
       "<matplotlib.figure.Figure at 0x7fde78104650>"
      ]
     },
     "metadata": {},
     "output_type": "display_data"
    }
   ],
   "source": [
    "matrix_evaluation(cm_cv)"
   ]
  },
  {
   "cell_type": "code",
   "execution_count": 34,
   "metadata": {},
   "outputs": [
    {
     "name": "stdout",
     "output_type": "stream",
     "text": [
      "Accuracy:  0.863267\n",
      "Precision: [ 0.83179248  0.90984252]\n",
      "Recall:    [ 0.93175384  0.78518644]\n",
      "F1:        [ 0.87894016  0.84293074]\n"
     ]
    }
   ],
   "source": [
    "numeric_evaluation(y_cv, predictions_cv)"
   ]
  },
  {
   "cell_type": "code",
   "execution_count": 35,
   "metadata": {},
   "outputs": [
    {
     "name": "stdout",
     "output_type": "stream",
     "text": [
      "Accuracy:  0.866043\n",
      "Precision: [ 0.83570136  0.91093396]\n",
      "Recall:    [ 0.93280668  0.78935698]\n",
      "F1:        [ 0.88158809  0.84579888]\n"
     ]
    }
   ],
   "source": [
    "numeric_evaluation(y_test, predictions_test)"
   ]
  },
  {
   "cell_type": "markdown",
   "metadata": {},
   "source": [
    "# Naive Bayes #"
   ]
  },
  {
   "cell_type": "code",
   "execution_count": 55,
   "metadata": {
    "collapsed": true
   },
   "outputs": [],
   "source": [
    "# divido in maniera random tra train e test(comportamento di default)\n",
    "\n",
    "x_train, x_cv, y_train, y_cv = train_test_split(x_darpa, y_darpa, test_size=0.2, random_state=42)"
   ]
  },
  {
   "cell_type": "code",
   "execution_count": 12,
   "metadata": {},
   "outputs": [],
   "source": [
    "clf = GaussianNB()"
   ]
  },
  {
   "cell_type": "code",
   "execution_count": 13,
   "metadata": {},
   "outputs": [
    {
     "data": {
      "text/plain": [
       "GaussianNB(priors=None)"
      ]
     },
     "execution_count": 13,
     "metadata": {},
     "output_type": "execute_result"
    }
   ],
   "source": [
    "clf.fit(x_train, y_train)"
   ]
  },
  {
   "cell_type": "code",
   "execution_count": 18,
   "metadata": {
    "collapsed": true
   },
   "outputs": [],
   "source": [
    "predictions_cv = clf.predict(x_cv)\n",
    "predictions_test = clf.predict(x_test)"
   ]
  },
  {
   "cell_type": "code",
   "execution_count": 19,
   "metadata": {},
   "outputs": [],
   "source": [
    "cm_cv = cmatrix(y_cv, predictions_cv).T\n",
    "cm_test = cmatrix(y_test, predictions_test).T"
   ]
  },
  {
   "cell_type": "code",
   "execution_count": 22,
   "metadata": {},
   "outputs": [
    {
     "data": {
      "image/png": "[encoded data removed]",
      "text/plain": [
       "<matplotlib.figure.Figure at 0x7fdf00388e50>"
      ]
     },
     "metadata": {},
     "output_type": "display_data"
    },
    {
     "data": {
      "image/png": "[encoded data removed]",
      "text/plain": [
       "<matplotlib.figure.Figure at 0x7fde783abe10>"
      ]
     },
     "metadata": {},
     "output_type": "display_data"
    }
   ],
   "source": [
    "#confusion matrices\n",
    "\n",
    "matrix_evaluation(cm_cv)\n",
    "matrix_evaluation(cm_test)"
   ]
  },
  {
   "cell_type": "code",
   "execution_count": 23,
   "metadata": {},
   "outputs": [
    {
     "name": "stdout",
     "output_type": "stream",
     "text": [
      "Accuracy:  0.532606\n",
      "Precision: [ 0.53320959  0.49636804]\n",
      "Recall:    [ 0.98450305  0.01741272]\n",
      "F1:        [ 0.69176003  0.03364517]\n"
     ]
    }
   ],
   "source": [
    "# in cross-validation\n",
    "numeric_evaluation(y_cv, predictions_cv)"
   ]
  },
  {
   "cell_type": "code",
   "execution_count": 25,
   "metadata": {},
   "outputs": [
    {
     "name": "stdout",
     "output_type": "stream",
     "text": [
      "Accuracy:  0.534543\n",
      "Precision: [ 0.53511743  0.49874309]\n",
      "Recall:    [ 0.98519519  0.01691967]\n",
      "F1:        [ 0.69353515  0.03272901]\n"
     ]
    }
   ],
   "source": [
    "# in test set\n",
    "numeric_evaluation(y_test, predictions_test)"
   ]
  },
  {
   "cell_type": "markdown",
   "metadata": {},
   "source": [
    "# K Nearest Neighbor (KNN) #"
   ]
  },
  {
   "cell_type": "code",
   "execution_count": 79,
   "metadata": {
    "collapsed": true
   },
   "outputs": [],
   "source": [
    "clf = KNeighborsClassifier()\n",
    "clf.fit(x_train, y_train)\n",
    "\n",
    "# make predictions\n",
    "predictions_cv = clf.predict(x_cv)\n",
    "predictions_test = clf.predict(x_test)"
   ]
  },
  {
   "cell_type": "code",
   "execution_count": 80,
   "metadata": {
    "collapsed": true
   },
   "outputs": [],
   "source": [
    "cm_cv = cmatrix(y_cv, predictions_cv).T\n",
    "cm_test = cmatrix(y_test, predictions_test).T"
   ]
  },
  {
   "cell_type": "code",
   "execution_count": 81,
   "metadata": {},
   "outputs": [
    {
     "data": {
      "image/png": "[encoded data removed]",
      "text/plain": [
       "<matplotlib.figure.Figure at 0x7fde71f7b610>"
      ]
     },
     "metadata": {},
     "output_type": "display_data"
    },
    {
     "data": {
      "image/png": "[encoded data removed]",
      "text/plain": [
       "<matplotlib.figure.Figure at 0x7fde71f7b1d0>"
      ]
     },
     "metadata": {},
     "output_type": "display_data"
    }
   ],
   "source": [
    "# confusion matrices\n",
    "matrix_evaluation(cm_cv)\n",
    "matrix_evaluation(cm_test)"
   ]
  },
  {
   "cell_type": "code",
   "execution_count": 82,
   "metadata": {},
   "outputs": [
    {
     "name": "stdout",
     "output_type": "stream",
     "text": [
      "Accuracy:  0.978885\n",
      "Precision: [ 0.99653313  0.96013099]\n",
      "Recall:    [ 0.96371629  0.99617769]\n",
      "F1:        [ 0.97985001  0.97782224]\n"
     ]
    }
   ],
   "source": [
    "# in cross-validation\n",
    "numeric_evaluation(y_cv, predictions_cv)"
   ]
  },
  {
   "cell_type": "code",
   "execution_count": 83,
   "metadata": {},
   "outputs": [
    {
     "name": "stdout",
     "output_type": "stream",
     "text": [
      "Accuracy:  0.979115\n",
      "Precision: [ 0.99727969  0.95970906]\n",
      "Recall:    [ 0.96355969  0.99698107]\n",
      "F1:        [ 0.98012975  0.97799008]\n"
     ]
    }
   ],
   "source": [
    "numeric_evaluation(y_test, predictions_test)"
   ]
  },
  {
   "cell_type": "markdown",
   "metadata": {},
   "source": [
    "# Anomaly Detection #\n"
   ]
  },
  {
   "cell_type": "code",
   "execution_count": null,
   "metadata": {
    "collapsed": true
   },
   "outputs": [],
   "source": []
  },
  {
   "cell_type": "markdown",
   "metadata": {},
   "source": [
    "# Evaluation #"
   ]
  },
  {
   "cell_type": "code",
   "execution_count": 34,
   "metadata": {},
   "outputs": [],
   "source": [
    "# print a nice confusion matrix\n",
    "def matrix_evaluation(cm):\n",
    "\n",
    "    fig, ax = plt.subplots(figsize=(4,2))\n",
    "\n",
    "    sns.heatmap(cm, annot=True, annot_kws={\"size\":16}, fmt=\".0f\", cbar=False, cmap=sns.color_palette(\"Blues\"))\n",
    "\n",
    "    # labels, title and ticks\n",
    "    ax.set_xlabel('True labels', fontsize=20)\n",
    "    ax.set_ylabel('Predicted', fontsize=20)\n",
    "\n",
    "\n",
    "    ax.xaxis.set_ticklabels(['Normal', 'Attack'], fontsize=15)\n",
    "    ax.yaxis.set_ticklabels(['Normal', 'Attack'], fontsize=15)\n",
    "\n",
    "    plt.yticks(rotation=0)\n",
    "    plt.show()\n",
    "\n",
    "def numeric_evaluation(y_cv, predictions):\n",
    "    \n",
    "    print(\"Accuracy:  %f\" %accuracy_score(y_cv, predictions))\n",
    "    print(\"Precision: %s\" %precision_score(y_cv, predictions, average=None))\n",
    "    print(\"Recall:    %s\" %recall_score(y_cv, predictions, average=None))\n",
    "    print(\"F1:        %s\" %f1_score(y_cv, predictions, average=None))\n",
    "    "
   ]
  },
  {
   "cell_type": "markdown",
   "metadata": {},
   "source": [
    "# Missclassified Analysis #"
   ]
  },
  {
   "cell_type": "code",
   "execution_count": 35,
   "metadata": {},
   "outputs": [],
   "source": [
    "x_cv_analysis = x_cv.copy()"
   ]
  },
  {
   "cell_type": "code",
   "execution_count": 36,
   "metadata": {},
   "outputs": [],
   "source": [
    "x_cv_analysis.loc[:, \"TRUTH\"] = y_cv.copy()\n",
    "x_cv_analysis.loc[:, \"PREDICTION\"] = clf.predict(x_cv)\n",
    "x_cv_analysis.loc[:, \"GUESSED\"] = x_cv_analysis.loc[:, \"TRUTH\"] == x_cv_analysis.loc[:, \"PREDICTION\"]"
   ]
  },
  {
   "cell_type": "code",
   "execution_count": 37,
   "metadata": {},
   "outputs": [
    {
     "data": {
      "text/html": [
       "<div>\n",
       "<style>\n",
       "    .dataframe thead tr:only-child th {\n",
       "        text-align: right;\n",
       "    }\n",
       "\n",
       "    .dataframe thead th {\n",
       "        text-align: left;\n",
       "    }\n",
       "\n",
       "    .dataframe tbody tr th {\n",
       "        vertical-align: top;\n",
       "    }\n",
       "</style>\n",
       "<table border=\"1\" class=\"dataframe\">\n",
       "  <thead>\n",
       "    <tr style=\"text-align: right;\">\n",
       "      <th></th>\n",
       "      <th>duration</th>\n",
       "      <th>src_bytes</th>\n",
       "      <th>dst_bytes</th>\n",
       "      <th>urgent</th>\n",
       "      <th>count</th>\n",
       "      <th>srv_count</th>\n",
       "      <th>same_srv_rate</th>\n",
       "      <th>dst_host_count</th>\n",
       "      <th>dst_host_srv_count</th>\n",
       "      <th>dst_host_same_srv_rate</th>\n",
       "      <th>...</th>\n",
       "      <th>service_time</th>\n",
       "      <th>service_urh_i</th>\n",
       "      <th>service_urp_i</th>\n",
       "      <th>service_uucp</th>\n",
       "      <th>service_uucp_path</th>\n",
       "      <th>service_vmnet</th>\n",
       "      <th>service_whois</th>\n",
       "      <th>TRUTH</th>\n",
       "      <th>PREDICTION</th>\n",
       "      <th>GUESSED</th>\n",
       "    </tr>\n",
       "  </thead>\n",
       "  <tbody>\n",
       "    <tr>\n",
       "      <th>378</th>\n",
       "      <td>-0.006692</td>\n",
       "      <td>-0.000033</td>\n",
       "      <td>-0.000015</td>\n",
       "      <td>0</td>\n",
       "      <td>-0.160680</td>\n",
       "      <td>-0.046454</td>\n",
       "      <td>1.00</td>\n",
       "      <td>-0.451564</td>\n",
       "      <td>0.217047</td>\n",
       "      <td>1.00</td>\n",
       "      <td>...</td>\n",
       "      <td>0</td>\n",
       "      <td>0</td>\n",
       "      <td>0</td>\n",
       "      <td>0</td>\n",
       "      <td>0</td>\n",
       "      <td>0</td>\n",
       "      <td>0</td>\n",
       "      <td>0</td>\n",
       "      <td>0</td>\n",
       "      <td>True</td>\n",
       "    </tr>\n",
       "    <tr>\n",
       "      <th>32038</th>\n",
       "      <td>-0.006692</td>\n",
       "      <td>-0.000033</td>\n",
       "      <td>-0.000015</td>\n",
       "      <td>0</td>\n",
       "      <td>-0.082402</td>\n",
       "      <td>-0.032755</td>\n",
       "      <td>0.26</td>\n",
       "      <td>0.285690</td>\n",
       "      <td>-0.280992</td>\n",
       "      <td>0.17</td>\n",
       "      <td>...</td>\n",
       "      <td>0</td>\n",
       "      <td>0</td>\n",
       "      <td>0</td>\n",
       "      <td>0</td>\n",
       "      <td>0</td>\n",
       "      <td>0</td>\n",
       "      <td>0</td>\n",
       "      <td>1</td>\n",
       "      <td>1</td>\n",
       "      <td>True</td>\n",
       "    </tr>\n",
       "    <tr>\n",
       "      <th>86399</th>\n",
       "      <td>-0.006692</td>\n",
       "      <td>-0.000033</td>\n",
       "      <td>-0.000015</td>\n",
       "      <td>0</td>\n",
       "      <td>0.391179</td>\n",
       "      <td>-0.015143</td>\n",
       "      <td>0.07</td>\n",
       "      <td>0.285690</td>\n",
       "      <td>-0.375110</td>\n",
       "      <td>0.08</td>\n",
       "      <td>...</td>\n",
       "      <td>0</td>\n",
       "      <td>0</td>\n",
       "      <td>0</td>\n",
       "      <td>0</td>\n",
       "      <td>0</td>\n",
       "      <td>0</td>\n",
       "      <td>0</td>\n",
       "      <td>1</td>\n",
       "      <td>1</td>\n",
       "      <td>True</td>\n",
       "    </tr>\n",
       "    <tr>\n",
       "      <th>74412</th>\n",
       "      <td>-0.006692</td>\n",
       "      <td>-0.000033</td>\n",
       "      <td>-0.000015</td>\n",
       "      <td>0</td>\n",
       "      <td>0.050670</td>\n",
       "      <td>-0.038626</td>\n",
       "      <td>0.07</td>\n",
       "      <td>0.285690</td>\n",
       "      <td>-0.347659</td>\n",
       "      <td>0.11</td>\n",
       "      <td>...</td>\n",
       "      <td>0</td>\n",
       "      <td>0</td>\n",
       "      <td>0</td>\n",
       "      <td>0</td>\n",
       "      <td>0</td>\n",
       "      <td>0</td>\n",
       "      <td>0</td>\n",
       "      <td>1</td>\n",
       "      <td>1</td>\n",
       "      <td>True</td>\n",
       "    </tr>\n",
       "    <tr>\n",
       "      <th>52951</th>\n",
       "      <td>-0.006692</td>\n",
       "      <td>-0.000033</td>\n",
       "      <td>-0.000015</td>\n",
       "      <td>0</td>\n",
       "      <td>-0.162637</td>\n",
       "      <td>-0.052325</td>\n",
       "      <td>1.00</td>\n",
       "      <td>-0.188819</td>\n",
       "      <td>-0.449620</td>\n",
       "      <td>0.01</td>\n",
       "      <td>...</td>\n",
       "      <td>0</td>\n",
       "      <td>0</td>\n",
       "      <td>0</td>\n",
       "      <td>0</td>\n",
       "      <td>0</td>\n",
       "      <td>0</td>\n",
       "      <td>0</td>\n",
       "      <td>1</td>\n",
       "      <td>1</td>\n",
       "      <td>True</td>\n",
       "    </tr>\n",
       "  </tbody>\n",
       "</table>\n",
       "<p>5 rows × 87 columns</p>\n",
       "</div>"
      ],
      "text/plain": [
       "       duration  src_bytes  dst_bytes  urgent     count  srv_count  \\\n",
       "378   -0.006692  -0.000033  -0.000015       0 -0.160680  -0.046454   \n",
       "32038 -0.006692  -0.000033  -0.000015       0 -0.082402  -0.032755   \n",
       "86399 -0.006692  -0.000033  -0.000015       0  0.391179  -0.015143   \n",
       "74412 -0.006692  -0.000033  -0.000015       0  0.050670  -0.038626   \n",
       "52951 -0.006692  -0.000033  -0.000015       0 -0.162637  -0.052325   \n",
       "\n",
       "       same_srv_rate  dst_host_count  dst_host_srv_count  \\\n",
       "378             1.00       -0.451564            0.217047   \n",
       "32038           0.26        0.285690           -0.280992   \n",
       "86399           0.07        0.285690           -0.375110   \n",
       "74412           0.07        0.285690           -0.347659   \n",
       "52951           1.00       -0.188819           -0.449620   \n",
       "\n",
       "       dst_host_same_srv_rate   ...     service_time  service_urh_i  \\\n",
       "378                      1.00   ...                0              0   \n",
       "32038                    0.17   ...                0              0   \n",
       "86399                    0.08   ...                0              0   \n",
       "74412                    0.11   ...                0              0   \n",
       "52951                    0.01   ...                0              0   \n",
       "\n",
       "       service_urp_i  service_uucp  service_uucp_path  service_vmnet  \\\n",
       "378                0             0                  0              0   \n",
       "32038              0             0                  0              0   \n",
       "86399              0             0                  0              0   \n",
       "74412              0             0                  0              0   \n",
       "52951              0             0                  0              0   \n",
       "\n",
       "       service_whois  TRUTH  PREDICTION  GUESSED  \n",
       "378                0      0           0     True  \n",
       "32038              0      1           1     True  \n",
       "86399              0      1           1     True  \n",
       "74412              0      1           1     True  \n",
       "52951              0      1           1     True  \n",
       "\n",
       "[5 rows x 87 columns]"
      ]
     },
     "execution_count": 37,
     "metadata": {},
     "output_type": "execute_result"
    }
   ],
   "source": [
    "x_cv_analysis.head()"
   ]
  },
  {
   "cell_type": "code",
   "execution_count": 38,
   "metadata": {},
   "outputs": [
    {
     "data": {
      "text/plain": [
       "True     25087\n",
       "False      108\n",
       "Name: GUESSED, dtype: int64"
      ]
     },
     "execution_count": 38,
     "metadata": {},
     "output_type": "execute_result"
    }
   ],
   "source": [
    "x_cv_analysis[\"GUESSED\"].value_counts()"
   ]
  },
  {
   "cell_type": "code",
   "execution_count": 39,
   "metadata": {},
   "outputs": [
    {
     "data": {
      "text/plain": [
       "array([[ 1.,  0.],\n",
       "       [ 0.,  1.],\n",
       "       [ 0.,  1.],\n",
       "       ..., \n",
       "       [ 1.,  0.],\n",
       "       [ 1.,  0.],\n",
       "       [ 0.,  1.]])"
      ]
     },
     "execution_count": 39,
     "metadata": {},
     "output_type": "execute_result"
    }
   ],
   "source": [
    "#show the proability of each prediction\n",
    "clf.predict_proba(x_cv)"
   ]
  },
  {
   "cell_type": "markdown",
   "metadata": {
    "collapsed": true
   },
   "source": [
    "### PLOTLY ### "
   ]
  },
  {
   "cell_type": "code",
   "execution_count": 60,
   "metadata": {},
   "outputs": [
    {
     "data": {
      "text/plain": [
       "(21712, 79)"
      ]
     },
     "execution_count": 60,
     "metadata": {},
     "output_type": "execute_result"
    }
   ],
   "source": [
    "x_cv.shape"
   ]
  },
  {
   "cell_type": "code",
   "execution_count": 62,
   "metadata": {},
   "outputs": [],
   "source": [
    "X_embedded = TSNE(n_components=3).fit_transform(x_cv, y_cv)"
   ]
  },
  {
   "cell_type": "code",
   "execution_count": 64,
   "metadata": {},
   "outputs": [
    {
     "data": {
      "text/plain": [
       "(21712, 3)"
      ]
     },
     "execution_count": 64,
     "metadata": {},
     "output_type": "execute_result"
    }
   ],
   "source": [
    "X_embedded.shape"
   ]
  },
  {
   "cell_type": "code",
   "execution_count": 68,
   "metadata": {},
   "outputs": [
    {
     "data": {
      "text/plain": [
       "(21712,)"
      ]
     },
     "execution_count": 68,
     "metadata": {},
     "output_type": "execute_result"
    }
   ],
   "source": [
    "X_embedded[:,0].shape"
   ]
  },
  {
   "cell_type": "code",
   "execution_count": 78,
   "metadata": {},
   "outputs": [
    {
     "data": {
      "text/plain": [
       "21712"
      ]
     },
     "execution_count": 78,
     "metadata": {},
     "output_type": "execute_result"
    }
   ],
   "source": [
    "len(predictions_cv)"
   ]
  },
  {
   "cell_type": "code",
   "execution_count": 85,
   "metadata": {},
   "outputs": [],
   "source": [
    "X_embedded_zero = X_embedded[predictions_cv == 0, :]\n",
    "X_embedded_one = X_embedded[predictions_cv == 1, :]\n",
    "X_embedded_two = X_embedded[predictions_cv == 2, :]"
   ]
  },
  {
   "cell_type": "code",
   "execution_count": 84,
   "metadata": {},
   "outputs": [
    {
     "data": {
      "text/plain": [
       "(11088, 3)"
      ]
     },
     "execution_count": 84,
     "metadata": {},
     "output_type": "execute_result"
    }
   ],
   "source": [
    "X_embedded_zero.shape"
   ]
  },
  {
   "cell_type": "code",
   "execution_count": 87,
   "metadata": {},
   "outputs": [
    {
     "data": {
      "text/html": [
       "<iframe id=\"igraph\" scrolling=\"no\" style=\"border:none;\" seamless=\"seamless\" src=\"https://plot.ly/~27am/2.embed\" height=\"525px\" width=\"100%\"></iframe>"
      ],
      "text/plain": [
       "<plotly.tools.PlotlyDisplay object>"
      ]
     },
     "execution_count": 87,
     "metadata": {},
     "output_type": "execute_result"
    }
   ],
   "source": [
    "import numpy as np\n",
    "\n",
    "#x, y, z = np.random.multivariate_normal(np.array([0,0,0]), np.eye(3), 200).transpose()\n",
    "trace1 = go.Scatter3d(\n",
    "    x = X_embedded_zero[:,0],\n",
    "    y = X_embedded_zero[:,1],\n",
    "    z = X_embedded_zero[:,2],\n",
    "    mode = 'markers',\n",
    "    marker = dict(\n",
    "        size = 6,\n",
    "        line=dict(\n",
    "            color='rgba(50, 250, 50, 0.14)',\n",
    "            width=0.5\n",
    "        ),\n",
    "        opacity=0.8\n",
    "    )\n",
    ")\n",
    "\n",
    "\n",
    "trace2 = go.Scatter3d(\n",
    "    x = X_embedded_one[:, 0],\n",
    "    y = X_embedded_one[:, 1],\n",
    "    z = X_embedded_one[:, 2],\n",
    "    mode='markers',\n",
    "    marker=dict(\n",
    "        color='rgb(250, 50, 50)',\n",
    "        size=6,\n",
    "        symbol='circle',\n",
    "        line=dict(\n",
    "            color='rgb(250, 50, 50)',\n",
    "            width=1\n",
    "        ),\n",
    "        opacity=0.9\n",
    "    )\n",
    ")\n",
    "\n",
    "trace3 = go.Scatter3d(\n",
    "    x = X_embedded_two[:, 0],\n",
    "    y = X_embedded_two[:, 1],\n",
    "    z = X_embedded_two[:, 2],\n",
    "    mode='markers',\n",
    "    marker=dict(\n",
    "        color='rgb(200, 200, 200)',\n",
    "        size=6,\n",
    "        symbol='circle',\n",
    "        line=dict(\n",
    "            color='rgb(204, 204, 204)',\n",
    "            width=1\n",
    "        ),\n",
    "        opacity=0.9\n",
    "    )\n",
    ")\n",
    "\n",
    "\n",
    "\n",
    "data = [trace1, trace2, trace3]\n",
    "\n",
    "layout = go.Layout(\n",
    "    margin=dict(\n",
    "        l=0,\n",
    "        r=0,\n",
    "        b=0,\n",
    "        t=0\n",
    "    )\n",
    ")\n",
    "\n",
    "\n",
    "fig = go.Figure(data=data, layout=layout)\n",
    "py.iplot(fig, filename='simple-3d-scatter')"
   ]
  },
  {
   "cell_type": "code",
   "execution_count": null,
   "metadata": {},
   "outputs": [],
   "source": []
  }
 ],
 "metadata": {
  "kernelspec": {
   "display_name": "Python 3",
   "language": "python",
   "name": "python3"
  },
  "language_info": {
   "codemirror_mode": {
    "name": "ipython",
    "version": 3
   },
   "file_extension": ".py",
   "mimetype": "text/x-python",
   "name": "python",
   "nbconvert_exporter": "python",
   "pygments_lexer": "ipython3",
   "version": "3.5.2"
  }
 },
 "nbformat": 4,
 "nbformat_minor": 2
}
