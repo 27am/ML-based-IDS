{
 "cells": [
  {
   "cell_type": "code",
   "execution_count": 28,
   "metadata": {},
   "outputs": [],
   "source": [
    "# let's import all the dependencies at once \n",
    "\n",
    "from __future__ import print_function\n",
    "import itertools\n",
    "import numpy as np\n",
    "import pandas as pd\n",
    "import os\n",
    "import random\n",
    "\n",
    "from sklearn import datasets\n",
    "from sklearn.utils import shuffle\n",
    "from sklearn.model_selection import train_test_split\n",
    "from sklearn.metrics import confusion_matrix as cmatrix\n",
    "from sklearn.metrics import accuracy_score, precision_score, recall_score, f1_score\n",
    "#from sklearn.cross_validation import cross_val_score\n",
    "from sklearn import metrics\n",
    "\n",
    "#import models\n",
    "from sklearn import svm\n",
    "from sklearn.ensemble import RandomForestClassifier\n",
    "from sklearn.linear_model import LogisticRegression\n",
    "from sklearn.naive_bayes import GaussianNB\n",
    "from sklearn.neighbors import KNeighborsClassifier\n",
    "from sklearn.manifold import TSNE\n",
    "from sklearn.preprocessing import MinMaxScaler\n",
    "\n",
    "\n",
    "#plots\n",
    "import seaborn as sns\n",
    "import matplotlib.pyplot as plt"
   ]
  },
  {
   "cell_type": "code",
   "execution_count": 29,
   "metadata": {},
   "outputs": [],
   "source": [
    "### Read the dataset ###\n",
    "\n",
    "my_cols = pd.read_csv(\"KDDlabels.csv\", header = -1)\n",
    "\n",
    "### TRAIN ###\n",
    "df = pd.read_csv(\"KDDTrain.csv\", header = -1)\n",
    "df.drop(42, axis=1, inplace=True)\n",
    "df.columns = my_cols[0] \n",
    "\n",
    "# we drop this feature because it is always the same. no information\n",
    "df.drop(\"num_outbound_cmds\", axis = 1, inplace = True)\n",
    "\n",
    "### TEST ###\n",
    "test_df = pd.read_csv(\"KDDTest.csv\", header = -1)\n",
    "test_df.drop(42, axis = 1, inplace = True)\n",
    "test_df.columns = my_cols[0]\n",
    "\n",
    "# we drop this feature because it is always the same. no information\n",
    "test_df.drop(\"num_outbound_cmds\", axis = 1, inplace = True)"
   ]
  },
  {
   "cell_type": "code",
   "execution_count": 30,
   "metadata": {},
   "outputs": [],
   "source": [
    "# we add a column that keeps track if a sample comes from the test or train\n",
    "df[\"train\"] = True\n",
    "test_df[\"train\"] = False"
   ]
  },
  {
   "cell_type": "code",
   "execution_count": 31,
   "metadata": {},
   "outputs": [
    {
     "data": {
      "text/plain": [
       "(148516, 42)"
      ]
     },
     "execution_count": 31,
     "metadata": {},
     "output_type": "execute_result"
    }
   ],
   "source": [
    "# TRAIN and TEST merging\n",
    "mix_df = df.append(test_df)\n",
    "mix_df.shape"
   ]
  },
  {
   "cell_type": "code",
   "execution_count": 32,
   "metadata": {},
   "outputs": [
    {
     "data": {
      "text/html": [
       "<div>\n",
       "<style>\n",
       "    .dataframe thead tr:only-child th {\n",
       "        text-align: right;\n",
       "    }\n",
       "\n",
       "    .dataframe thead th {\n",
       "        text-align: left;\n",
       "    }\n",
       "\n",
       "    .dataframe tbody tr th {\n",
       "        vertical-align: top;\n",
       "    }\n",
       "</style>\n",
       "<table border=\"1\" class=\"dataframe\">\n",
       "  <thead>\n",
       "    <tr style=\"text-align: right;\">\n",
       "      <th></th>\n",
       "      <th>duration</th>\n",
       "      <th>protocol_type</th>\n",
       "      <th>service</th>\n",
       "      <th>flag</th>\n",
       "      <th>src_bytes</th>\n",
       "      <th>dst_bytes</th>\n",
       "      <th>land</th>\n",
       "      <th>wrong_fragment</th>\n",
       "      <th>urgent</th>\n",
       "      <th>hot</th>\n",
       "      <th>...</th>\n",
       "      <th>dst_host_same_srv_rate</th>\n",
       "      <th>dst_host_diff_srv_rate</th>\n",
       "      <th>dst_host_same_src_port_rate</th>\n",
       "      <th>dst_host_srv_diff_host_rate</th>\n",
       "      <th>dst_host_serror_rate</th>\n",
       "      <th>dst_host_srv_serror_rate</th>\n",
       "      <th>dst_host_rerror_rate</th>\n",
       "      <th>dst_host_srv_rerror_rate</th>\n",
       "      <th>label</th>\n",
       "      <th>train</th>\n",
       "    </tr>\n",
       "  </thead>\n",
       "  <tbody>\n",
       "    <tr>\n",
       "      <th>0</th>\n",
       "      <td>0</td>\n",
       "      <td>tcp</td>\n",
       "      <td>ftp_data</td>\n",
       "      <td>SF</td>\n",
       "      <td>491</td>\n",
       "      <td>0</td>\n",
       "      <td>0</td>\n",
       "      <td>0</td>\n",
       "      <td>0</td>\n",
       "      <td>0</td>\n",
       "      <td>...</td>\n",
       "      <td>0.17</td>\n",
       "      <td>0.03</td>\n",
       "      <td>0.17</td>\n",
       "      <td>0.0</td>\n",
       "      <td>0.0</td>\n",
       "      <td>0.0</td>\n",
       "      <td>0.05</td>\n",
       "      <td>0.0</td>\n",
       "      <td>normal</td>\n",
       "      <td>True</td>\n",
       "    </tr>\n",
       "    <tr>\n",
       "      <th>1</th>\n",
       "      <td>0</td>\n",
       "      <td>udp</td>\n",
       "      <td>other</td>\n",
       "      <td>SF</td>\n",
       "      <td>146</td>\n",
       "      <td>0</td>\n",
       "      <td>0</td>\n",
       "      <td>0</td>\n",
       "      <td>0</td>\n",
       "      <td>0</td>\n",
       "      <td>...</td>\n",
       "      <td>0.00</td>\n",
       "      <td>0.60</td>\n",
       "      <td>0.88</td>\n",
       "      <td>0.0</td>\n",
       "      <td>0.0</td>\n",
       "      <td>0.0</td>\n",
       "      <td>0.00</td>\n",
       "      <td>0.0</td>\n",
       "      <td>normal</td>\n",
       "      <td>True</td>\n",
       "    </tr>\n",
       "    <tr>\n",
       "      <th>2</th>\n",
       "      <td>0</td>\n",
       "      <td>tcp</td>\n",
       "      <td>private</td>\n",
       "      <td>S0</td>\n",
       "      <td>0</td>\n",
       "      <td>0</td>\n",
       "      <td>0</td>\n",
       "      <td>0</td>\n",
       "      <td>0</td>\n",
       "      <td>0</td>\n",
       "      <td>...</td>\n",
       "      <td>0.10</td>\n",
       "      <td>0.05</td>\n",
       "      <td>0.00</td>\n",
       "      <td>0.0</td>\n",
       "      <td>1.0</td>\n",
       "      <td>1.0</td>\n",
       "      <td>0.00</td>\n",
       "      <td>0.0</td>\n",
       "      <td>neptune</td>\n",
       "      <td>True</td>\n",
       "    </tr>\n",
       "  </tbody>\n",
       "</table>\n",
       "<p>3 rows × 42 columns</p>\n",
       "</div>"
      ],
      "text/plain": [
       "0  duration protocol_type   service flag  src_bytes  dst_bytes  land  \\\n",
       "0         0           tcp  ftp_data   SF        491          0     0   \n",
       "1         0           udp     other   SF        146          0     0   \n",
       "2         0           tcp   private   S0          0          0     0   \n",
       "\n",
       "0  wrong_fragment  urgent  hot  ...    dst_host_same_srv_rate  \\\n",
       "0               0       0    0  ...                      0.17   \n",
       "1               0       0    0  ...                      0.00   \n",
       "2               0       0    0  ...                      0.10   \n",
       "\n",
       "0  dst_host_diff_srv_rate  dst_host_same_src_port_rate  \\\n",
       "0                    0.03                         0.17   \n",
       "1                    0.60                         0.88   \n",
       "2                    0.05                         0.00   \n",
       "\n",
       "0  dst_host_srv_diff_host_rate  dst_host_serror_rate  \\\n",
       "0                          0.0                   0.0   \n",
       "1                          0.0                   0.0   \n",
       "2                          0.0                   1.0   \n",
       "\n",
       "0  dst_host_srv_serror_rate  dst_host_rerror_rate  dst_host_srv_rerror_rate  \\\n",
       "0                       0.0                  0.05                       0.0   \n",
       "1                       0.0                  0.00                       0.0   \n",
       "2                       1.0                  0.00                       0.0   \n",
       "\n",
       "0    label  train  \n",
       "0   normal   True  \n",
       "1   normal   True  \n",
       "2  neptune   True  \n",
       "\n",
       "[3 rows x 42 columns]"
      ]
     },
     "execution_count": 32,
     "metadata": {},
     "output_type": "execute_result"
    }
   ],
   "source": [
    "mix_df.head(3)"
   ]
  },
  {
   "cell_type": "markdown",
   "metadata": {},
   "source": [
    "#### Constructing the labels for the 5 class classification ###"
   ]
  },
  {
   "cell_type": "code",
   "execution_count": 33,
   "metadata": {},
   "outputs": [],
   "source": [
    "mix_df[\"label_dos\"] = mix_df[\"label\"].copy()\n",
    "mix_df[\"label_probe\"] = mix_df[\"label\"].copy()\n",
    "mix_df[\"label_r2l\"] = mix_df[\"label\"].copy()\n",
    "mix_df[\"label_u2r\"] = mix_df[\"label\"].copy()"
   ]
  },
  {
   "cell_type": "code",
   "execution_count": 34,
   "metadata": {},
   "outputs": [
    {
     "data": {
      "text/html": [
       "<div>\n",
       "<style>\n",
       "    .dataframe thead tr:only-child th {\n",
       "        text-align: right;\n",
       "    }\n",
       "\n",
       "    .dataframe thead th {\n",
       "        text-align: left;\n",
       "    }\n",
       "\n",
       "    .dataframe tbody tr th {\n",
       "        vertical-align: top;\n",
       "    }\n",
       "</style>\n",
       "<table border=\"1\" class=\"dataframe\">\n",
       "  <thead>\n",
       "    <tr style=\"text-align: right;\">\n",
       "      <th></th>\n",
       "      <th>duration</th>\n",
       "      <th>protocol_type</th>\n",
       "      <th>service</th>\n",
       "      <th>flag</th>\n",
       "      <th>src_bytes</th>\n",
       "      <th>dst_bytes</th>\n",
       "      <th>land</th>\n",
       "      <th>wrong_fragment</th>\n",
       "      <th>urgent</th>\n",
       "      <th>hot</th>\n",
       "      <th>...</th>\n",
       "      <th>dst_host_serror_rate</th>\n",
       "      <th>dst_host_srv_serror_rate</th>\n",
       "      <th>dst_host_rerror_rate</th>\n",
       "      <th>dst_host_srv_rerror_rate</th>\n",
       "      <th>label</th>\n",
       "      <th>train</th>\n",
       "      <th>label_dos</th>\n",
       "      <th>label_probe</th>\n",
       "      <th>label_r2l</th>\n",
       "      <th>label_u2r</th>\n",
       "    </tr>\n",
       "  </thead>\n",
       "  <tbody>\n",
       "    <tr>\n",
       "      <th>0</th>\n",
       "      <td>0</td>\n",
       "      <td>tcp</td>\n",
       "      <td>ftp_data</td>\n",
       "      <td>SF</td>\n",
       "      <td>491</td>\n",
       "      <td>0</td>\n",
       "      <td>0</td>\n",
       "      <td>0</td>\n",
       "      <td>0</td>\n",
       "      <td>0</td>\n",
       "      <td>...</td>\n",
       "      <td>0.0</td>\n",
       "      <td>0.0</td>\n",
       "      <td>0.05</td>\n",
       "      <td>0.0</td>\n",
       "      <td>normal</td>\n",
       "      <td>True</td>\n",
       "      <td>normal</td>\n",
       "      <td>normal</td>\n",
       "      <td>normal</td>\n",
       "      <td>normal</td>\n",
       "    </tr>\n",
       "    <tr>\n",
       "      <th>1</th>\n",
       "      <td>0</td>\n",
       "      <td>udp</td>\n",
       "      <td>other</td>\n",
       "      <td>SF</td>\n",
       "      <td>146</td>\n",
       "      <td>0</td>\n",
       "      <td>0</td>\n",
       "      <td>0</td>\n",
       "      <td>0</td>\n",
       "      <td>0</td>\n",
       "      <td>...</td>\n",
       "      <td>0.0</td>\n",
       "      <td>0.0</td>\n",
       "      <td>0.00</td>\n",
       "      <td>0.0</td>\n",
       "      <td>normal</td>\n",
       "      <td>True</td>\n",
       "      <td>normal</td>\n",
       "      <td>normal</td>\n",
       "      <td>normal</td>\n",
       "      <td>normal</td>\n",
       "    </tr>\n",
       "    <tr>\n",
       "      <th>2</th>\n",
       "      <td>0</td>\n",
       "      <td>tcp</td>\n",
       "      <td>private</td>\n",
       "      <td>S0</td>\n",
       "      <td>0</td>\n",
       "      <td>0</td>\n",
       "      <td>0</td>\n",
       "      <td>0</td>\n",
       "      <td>0</td>\n",
       "      <td>0</td>\n",
       "      <td>...</td>\n",
       "      <td>1.0</td>\n",
       "      <td>1.0</td>\n",
       "      <td>0.00</td>\n",
       "      <td>0.0</td>\n",
       "      <td>neptune</td>\n",
       "      <td>True</td>\n",
       "      <td>neptune</td>\n",
       "      <td>neptune</td>\n",
       "      <td>neptune</td>\n",
       "      <td>neptune</td>\n",
       "    </tr>\n",
       "  </tbody>\n",
       "</table>\n",
       "<p>3 rows × 46 columns</p>\n",
       "</div>"
      ],
      "text/plain": [
       "0  duration protocol_type   service flag  src_bytes  dst_bytes  land  \\\n",
       "0         0           tcp  ftp_data   SF        491          0     0   \n",
       "1         0           udp     other   SF        146          0     0   \n",
       "2         0           tcp   private   S0          0          0     0   \n",
       "\n",
       "0  wrong_fragment  urgent  hot    ...      dst_host_serror_rate  \\\n",
       "0               0       0    0    ...                       0.0   \n",
       "1               0       0    0    ...                       0.0   \n",
       "2               0       0    0    ...                       1.0   \n",
       "\n",
       "0  dst_host_srv_serror_rate  dst_host_rerror_rate  dst_host_srv_rerror_rate  \\\n",
       "0                       0.0                  0.05                       0.0   \n",
       "1                       0.0                  0.00                       0.0   \n",
       "2                       1.0                  0.00                       0.0   \n",
       "\n",
       "0    label  train  label_dos  label_probe  label_r2l  label_u2r  \n",
       "0   normal   True     normal       normal     normal     normal  \n",
       "1   normal   True     normal       normal     normal     normal  \n",
       "2  neptune   True    neptune      neptune    neptune    neptune  \n",
       "\n",
       "[3 rows x 46 columns]"
      ]
     },
     "execution_count": 34,
     "metadata": {},
     "output_type": "execute_result"
    }
   ],
   "source": [
    "mix_df.head(3)"
   ]
  },
  {
   "cell_type": "code",
   "execution_count": 35,
   "metadata": {},
   "outputs": [],
   "source": [
    "# we are constructing the labels that later will be used to train FOUR different models.\n",
    "\n",
    "# constructing \"label_DOS\"\n",
    "mix_df.loc[~mix_df[\"label_dos\"].isin([\"neptune\",\"smurf\", \"back\", \"teardrop\", \"pod\", \"land\", \"normal\"]), \"label_dos\"] = 2   # not DOS\n",
    "mix_df.loc[mix_df[\"label_dos\"].isin([\"neptune\",\"smurf\", \"back\", \"teardrop\", \"pod\", \"land\"]), \"label_dos\"] = 1   # DOS\n",
    "mix_df.loc[mix_df[\"label_dos\"] == \"normal\", \"label_dos\"] = 0   # normal connection\n",
    "\n",
    "\n",
    "# constructing \"label_PROBE\"\n",
    "mix_df.loc[~mix_df[\"label_probe\"].isin([\"satan\", \"ipsweep\", \"portsweep\", \"nmap\",  \"normal\"]), \"label_probe\"] = 2   # not DOS\n",
    "mix_df.loc[mix_df[\"label_probe\"].isin([\"satan\", \"ipsweep\", \"portsweep\", \"nmap\"]), \"label_probe\"] = 1   # DOS\n",
    "mix_df.loc[mix_df[\"label_probe\"] == \"normal\", \"label_probe\"] = 0   # normal connection\n",
    "\n",
    "\n",
    "# constructing \"label_R2L\"\n",
    "mix_df.loc[~mix_df[\"label_r2l\"].isin([\"warezclient\", \"guess_passwd\", \"warezmaster\", \"imap\",\"ftp_write\", \"multihop\", \"phf\", \"spy\",  \"normal\"]), \"label_r2l\"] = 2   # not DOS\n",
    "mix_df.loc[mix_df[\"label_r2l\"].isin([\"warezclient\", \"guess_passwd\", \"warezmaster\", \"imap\",\"ftp_write\", \"multihop\", \"phf\", \"spy\"]), \"label_r2l\"] = 1   # DOS\n",
    "mix_df.loc[mix_df[\"label_r2l\"] == \"normal\", \"label_r2l\"] = 0   # normal connection\n",
    "\n",
    "\n",
    "# constructing \"label_U2R\"\n",
    "mix_df.loc[~mix_df[\"label_u2r\"].isin([\"buffer_overflow\", \"rootkit\", \"loadmodule\", \"perl\",  \"normal\"]), \"label_u2r\"] = 2   # not DOS\n",
    "mix_df.loc[mix_df[\"label_u2r\"].isin([\"buffer_overflow\", \"rootkit\", \"loadmodule\", \"perl\"]), \"label_u2r\"] = 1   # DOS\n",
    "mix_df.loc[mix_df[\"label_u2r\"] == \"normal\", \"label_u2r\"] = 0   # normal connection\n",
    "\n",
    "\n",
    "y__cv = mix_df[mix_df[\"train\"] == True]\n",
    "y__cv = y__cv[\"label\"]\n",
    "y__test = mix_df[mix_df[\"train\"] == False]\n",
    "y__test = y__test[\"label\"]\n",
    "\n",
    "\n",
    "mix_df = mix_df.drop(\"label\", axis = 1)"
   ]
  },
  {
   "cell_type": "code",
   "execution_count": 37,
   "metadata": {},
   "outputs": [],
   "source": [
    "# preparing for the final test\n",
    "\n",
    "y__cv.loc[~y__cv.isin([\"normal\"])] = 1   # everything that is not  or normal\n",
    "y__cv.loc[y__cv == \"normal\"] = 0   # normal connection\n",
    "y__cv = pd.to_numeric(y__cv)\n",
    "\n",
    "y__test.loc[~y__test.isin([\"normal\"])] = 1   # everything that is not  or normal\n",
    "y__test.loc[y__test == \"normal\"] = 0   # normal connection\n",
    "y__test = pd.to_numeric(y__test)\n"
   ]
  },
  {
   "cell_type": "code",
   "execution_count": 38,
   "metadata": {},
   "outputs": [],
   "source": [
    "mix_df[\"label_dos\"] = pd.to_numeric(mix_df[\"label_dos\"])\n",
    "mix_df[\"label_probe\"] = pd.to_numeric(mix_df[\"label_probe\"])\n",
    "mix_df[\"label_r2l\"] = pd.to_numeric(mix_df[\"label_r2l\"])\n",
    "mix_df[\"label_u2r\"] = pd.to_numeric(mix_df[\"label_u2r\"])"
   ]
  },
  {
   "cell_type": "code",
   "execution_count": 40,
   "metadata": {},
   "outputs": [],
   "source": [
    "# we decide to work with only 13 features\n",
    "\n",
    "f13 = [\"duration\", \"protocol_type\", \"service\", \"src_bytes\", \"dst_bytes\",\n",
    "       \"urgent\", \"count\", \"srv_count\", \"same_srv_rate\", \"dst_host_count\",\n",
    "       \"dst_host_srv_count\", \"dst_host_same_srv_rate\", \"dst_host_same_src_port_rate\",\n",
    "       \"label_dos\",\"label_probe\", \"label_r2l\", \"label_u2r\", \"train\"]\n",
    "\n",
    "\n",
    "restricted_mdf = mix_df.loc[:, f13]\n",
    "restricted_mdf = pd.get_dummies(data = restricted_mdf, columns = [\"protocol_type\", \"service\"])"
   ]
  },
  {
   "cell_type": "code",
   "execution_count": 42,
   "metadata": {},
   "outputs": [],
   "source": [
    "# creating the TEST and TRAIN dataset that we are going to use\n",
    "\n",
    "test = restricted_mdf[restricted_mdf[\"train\"] == False]\n",
    "test = test.drop(\"train\", axis = 1)\n",
    "\n",
    "#x_test = test.drop(\"label_numeric\", axis = 1)\n",
    "y_test_dos = test[\"label_dos\"]\n",
    "y_test_probe = test[\"label_probe\"]\n",
    "y_test_r2l = test[\"label_r2l\"]\n",
    "y_test_u2r =  test[\"label_u2r\"]\n",
    "x_test = test.drop([\"label_dos\", \"label_probe\", \"label_r2l\", \"label_u2r\"], axis = 1)\n",
    "\n",
    "\n",
    "x_darpa = restricted_mdf[restricted_mdf[\"train\"] == True]    \n",
    "x_darpa = x_darpa.drop(\"train\", axis = 1)\n",
    "\n",
    "y_darpa_dos = x_darpa[\"label_dos\"]\n",
    "y_darpa_probe = x_darpa[\"label_probe\"]\n",
    "y_darpa_r2l = x_darpa[\"label_r2l\"]\n",
    "y_darpa_u2r = x_darpa[\"label_u2r\"]\n",
    "x_darpa = x_darpa.drop([\"label_dos\", \"label_probe\", \"label_r2l\", \"label_u2r\"], axis = 1)"
   ]
  },
  {
   "cell_type": "code",
   "execution_count": 25,
   "metadata": {},
   "outputs": [
    {
     "name": "stderr",
     "output_type": "stream",
     "text": [
      "/usr/local/lib/python3.5/dist-packages/sklearn/utils/validation.py:444: DataConversionWarning: Data with input dtype int64 was converted to float64 by MinMaxScaler.\n",
      "  warnings.warn(msg, DataConversionWarning)\n"
     ]
    }
   ],
   "source": [
    "### NORMALIZATION ###\n",
    "\n",
    "columns_to_normalize = [\"duration\", \"src_bytes\", \"dst_bytes\", \"count\", \"srv_count\", \"dst_host_count\", \"dst_host_srv_count\" ]\n",
    "\n",
    "## TRAIN normalization\n",
    "x_darpa_copy = x_darpa.copy()\n",
    "x_darpa_scaled = x_darpa_copy[columns_to_normalize]\n",
    "scaler = MinMaxScaler().fit(x_darpa_scaled.values)\n",
    "x_darpa_scaled = scaler.transform(x_darpa_scaled.values)\n",
    "\n",
    "x_darpa[columns_to_normalize] = x_darpa_scaled\n",
    "\n",
    "\n",
    "# TEST normalization\n",
    "x_test_copy = x_test.copy()\n",
    "x_test_scaled = x_test_copy[columns_to_normalize]\n",
    "#scaler = MinMaxScaler().fit(x_darpa_scaled.values)\n",
    "x_test_scaled = scaler.transform(x_test_scaled.values)           #to transform we use the SCALER calculated in the training\n",
    "\n",
    "x_test[columns_to_normalize] = x_test_scaled"
   ]
  },
  {
   "cell_type": "markdown",
   "metadata": {},
   "source": [
    "## ---Three Classes--- ##"
   ]
  },
  {
   "cell_type": "code",
   "execution_count": 43,
   "metadata": {},
   "outputs": [],
   "source": [
    "# divido in maniera random (comportamento di default) per DOS\n",
    "x_train, x_cv, y_train_dos, y_cv_dos = train_test_split(x_darpa, y_darpa_dos, test_size = 0.2, random_state = 42)\n",
    "\n",
    "# divido in maniera random (comportamento di default) per PROBE\n",
    "x_train, x_cv, y_train_probe, y_cv_probe = train_test_split(x_darpa, y_darpa_probe, test_size = 0.2, random_state = 42)\n",
    "\n",
    "# divido in maniera random (comportamento di default) per R2L\n",
    "x_train, x_cv, y_train_r2l, y_cv_r2l = train_test_split(x_darpa, y_darpa_r2l, test_size = 0.2, random_state = 42)\n",
    "\n",
    "# divido in maniera random (comportamento di default) per U2R\n",
    "x_train, x_cv, y_train_u2r, y_cv_u2r = train_test_split(x_darpa, y_darpa_u2r, test_size = 0.2, random_state = 42)"
   ]
  },
  {
   "cell_type": "code",
   "execution_count": 13,
   "metadata": {},
   "outputs": [
    {
     "ename": "NameError",
     "evalue": "name 'y_train' is not defined",
     "output_type": "error",
     "traceback": [
      "\u001b[0;31m---------------------------------------------------------------------------\u001b[0m",
      "\u001b[0;31mNameError\u001b[0m                                 Traceback (most recent call last)",
      "\u001b[0;32m<ipython-input-13-950c08d51069>\u001b[0m in \u001b[0;36m<module>\u001b[0;34m()\u001b[0m\n\u001b[1;32m      1\u001b[0m \u001b[0;31m# sample randomly 30000\u001b[0m\u001b[0;34m\u001b[0m\u001b[0;34m\u001b[0m\u001b[0m\n\u001b[0;32m----> 2\u001b[0;31m \u001b[0mrows\u001b[0m \u001b[0;34m=\u001b[0m \u001b[0mrandom\u001b[0m\u001b[0;34m.\u001b[0m\u001b[0msample\u001b[0m\u001b[0;34m(\u001b[0m\u001b[0mlist\u001b[0m\u001b[0;34m(\u001b[0m\u001b[0my_train\u001b[0m\u001b[0;34m.\u001b[0m\u001b[0mindex\u001b[0m\u001b[0;34m)\u001b[0m\u001b[0;34m,\u001b[0m \u001b[0;36m40000\u001b[0m\u001b[0;34m)\u001b[0m\u001b[0;34m\u001b[0m\u001b[0m\n\u001b[0m\u001b[1;32m      3\u001b[0m \u001b[0;34m\u001b[0m\u001b[0m\n\u001b[1;32m      4\u001b[0m \u001b[0;31m# set those to a new class, the \"don't know\" class\u001b[0m\u001b[0;34m\u001b[0m\u001b[0;34m\u001b[0m\u001b[0m\n\u001b[1;32m      5\u001b[0m \u001b[0my_train\u001b[0m\u001b[0;34m.\u001b[0m\u001b[0mix\u001b[0m\u001b[0;34m[\u001b[0m\u001b[0mrows\u001b[0m\u001b[0;34m]\u001b[0m \u001b[0;34m=\u001b[0m \u001b[0;36m2\u001b[0m\u001b[0;34m\u001b[0m\u001b[0m\n",
      "\u001b[0;31mNameError\u001b[0m: name 'y_train' is not defined"
     ]
    }
   ],
   "source": [
    "# sample randomly 30000\n",
    "rows = random.sample(list(y_train.index), 40000)\n",
    "\n",
    "# set those to a new class, the \"don't know\" class\n",
    "y_train.ix[rows] = 2"
   ]
  },
  {
   "cell_type": "code",
   "execution_count": 49,
   "metadata": {},
   "outputs": [
    {
     "data": {
      "text/plain": [
       "0    53921\n",
       "2    37558\n",
       "1     9299\n",
       "Name: label_probe, dtype: int64"
      ]
     },
     "execution_count": 49,
     "metadata": {},
     "output_type": "execute_result"
    }
   ],
   "source": [
    "y_train_probe.value_counts()"
   ]
  },
  {
   "cell_type": "code",
   "execution_count": 46,
   "metadata": {},
   "outputs": [
    {
     "data": {
      "image/png": "[encoded data removed]",
      "text/plain": [
       "<matplotlib.figure.Figure at 0x7fac22f9dba8>"
      ]
     },
     "metadata": {},
     "output_type": "display_data"
    }
   ],
   "source": [
    "sns.set_style(\"whitegrid\")\n",
    "sns.countplot(y_train_u2r)\n",
    "plt.show()"
   ]
  },
  {
   "cell_type": "markdown",
   "metadata": {
    "collapsed": true
   },
   "source": [
    "# Random Forest (RF) for DOS#"
   ]
  },
  {
   "cell_type": "markdown",
   "metadata": {},
   "source": [
    "Random Forest necessita poco preprocessing delle feature. Il target deve essere numerico sequenziale"
   ]
  },
  {
   "cell_type": "code",
   "execution_count": 50,
   "metadata": {},
   "outputs": [],
   "source": [
    "# cross validation on the training set\n",
    "clf_dos = RandomForestClassifier(n_jobs = 4, random_state = 42) #Initialize with whatever parameters you want to"
   ]
  },
  {
   "cell_type": "code",
   "execution_count": 51,
   "metadata": {},
   "outputs": [
    {
     "data": {
      "text/plain": [
       "RandomForestClassifier(bootstrap=True, class_weight=None, criterion='gini',\n",
       "            max_depth=None, max_features='auto', max_leaf_nodes=None,\n",
       "            min_impurity_decrease=0.0, min_impurity_split=None,\n",
       "            min_samples_leaf=1, min_samples_split=2,\n",
       "            min_weight_fraction_leaf=0.0, n_estimators=10, n_jobs=4,\n",
       "            oob_score=False, random_state=42, verbose=0, warm_start=False)"
      ]
     },
     "execution_count": 51,
     "metadata": {},
     "output_type": "execute_result"
    }
   ],
   "source": [
    "#start random forest training\n",
    "clf_dos.fit(x_train, y_train_dos)"
   ]
  },
  {
   "cell_type": "code",
   "execution_count": 52,
   "metadata": {},
   "outputs": [],
   "source": [
    "predictions_cv_dos = clf_dos.predict(x_cv)\n",
    "predictions_test_dos = clf_dos.predict(x_test)     # raises error because get_dummy creates features number mismatch"
   ]
  },
  {
   "cell_type": "code",
   "execution_count": 53,
   "metadata": {},
   "outputs": [],
   "source": [
    "cm_cv_dos = cmatrix(y_cv_dos, predictions_cv_dos).T\n",
    "cm_test_dos = cmatrix(y_test_dos, predictions_test_dos).T"
   ]
  },
  {
   "cell_type": "code",
   "execution_count": 54,
   "metadata": {},
   "outputs": [
    {
     "data": {
      "text/plain": [
       "array([[13413,    10,    27],\n",
       "       [    7,  9135,    43],\n",
       "       [    2,    36,  2522]])"
      ]
     },
     "execution_count": 54,
     "metadata": {},
     "output_type": "execute_result"
    }
   ],
   "source": [
    "cm_cv_dos"
   ]
  },
  {
   "cell_type": "code",
   "execution_count": 55,
   "metadata": {},
   "outputs": [
    {
     "data": {
      "text/plain": [
       "array([[9423,   53, 4678],\n",
       "       [  97, 5591,  609],\n",
       "       [ 190,   97, 1805]])"
      ]
     },
     "execution_count": 55,
     "metadata": {},
     "output_type": "execute_result"
    }
   ],
   "source": [
    "cm_test_dos"
   ]
  },
  {
   "cell_type": "code",
   "execution_count": 58,
   "metadata": {},
   "outputs": [
    {
     "name": "stdout",
     "output_type": "stream",
     "text": [
      "Accuracy:  0.995039\n",
      "Precision: [ 0.99724907  0.99455634  0.98515625]\n",
      "Recall:    [ 0.99932946  0.99498965  0.97299383]\n",
      "F1:        [ 0.99828818  0.99477295  0.97903727]\n"
     ]
    }
   ],
   "source": [
    "numeric_evaluation(y_cv_dos, predictions_cv_dos)"
   ]
  },
  {
   "cell_type": "code",
   "execution_count": 59,
   "metadata": {
    "scrolled": true
   },
   "outputs": [
    {
     "name": "stdout",
     "output_type": "stream",
     "text": [
      "Accuracy:  0.746085\n",
      "Precision: [ 0.6657482   0.88788312  0.86281071]\n",
      "Recall:    [ 0.97044284  0.97387215  0.25451213]\n",
      "F1:        [ 0.78972511  0.92889184  0.39307491]\n"
     ]
    }
   ],
   "source": [
    "numeric_evaluation(y_test_dos, predictions_test_dos)"
   ]
  },
  {
   "cell_type": "markdown",
   "metadata": {
    "collapsed": true
   },
   "source": [
    "# Random Forest (RF) for PROBE #"
   ]
  },
  {
   "cell_type": "markdown",
   "metadata": {},
   "source": [
    "Random Forest necessita poco preprocessing delle feature. Il target deve essere numerico sequenziale"
   ]
  },
  {
   "cell_type": "code",
   "execution_count": 60,
   "metadata": {},
   "outputs": [],
   "source": [
    "# cross validation on the training set\n",
    "clf_probe = RandomForestClassifier(n_jobs = 4, random_state = 42) #Initialize with whatever parameters you want to"
   ]
  },
  {
   "cell_type": "code",
   "execution_count": 61,
   "metadata": {},
   "outputs": [
    {
     "data": {
      "text/plain": [
       "RandomForestClassifier(bootstrap=True, class_weight=None, criterion='gini',\n",
       "            max_depth=None, max_features='auto', max_leaf_nodes=None,\n",
       "            min_impurity_decrease=0.0, min_impurity_split=None,\n",
       "            min_samples_leaf=1, min_samples_split=2,\n",
       "            min_weight_fraction_leaf=0.0, n_estimators=10, n_jobs=4,\n",
       "            oob_score=False, random_state=42, verbose=0, warm_start=False)"
      ]
     },
     "execution_count": 61,
     "metadata": {},
     "output_type": "execute_result"
    }
   ],
   "source": [
    "#start random forest training\n",
    "clf_probe.fit(x_train, y_train_probe)"
   ]
  },
  {
   "cell_type": "code",
   "execution_count": 62,
   "metadata": {},
   "outputs": [],
   "source": [
    "predictions_cv_probe = clf_probe.predict(x_cv)\n",
    "predictions_test_probe = clf_probe.predict(x_test)     # raises error because get_dummy creates features number mismatch"
   ]
  },
  {
   "cell_type": "code",
   "execution_count": 63,
   "metadata": {},
   "outputs": [],
   "source": [
    "cm_cv_probe = cmatrix(y_cv_probe, predictions_cv_probe).T\n",
    "cm_test_probe = cmatrix(y_test_probe, predictions_test_probe).T"
   ]
  },
  {
   "cell_type": "code",
   "execution_count": 67,
   "metadata": {},
   "outputs": [
    {
     "data": {
      "text/plain": [
       "array([[13409,    14,    30],\n",
       "       [    3,  2303,    39],\n",
       "       [   10,    40,  9347]])"
      ]
     },
     "execution_count": 67,
     "metadata": {},
     "output_type": "execute_result"
    }
   ],
   "source": [
    "cm_cv_probe"
   ]
  },
  {
   "cell_type": "code",
   "execution_count": 68,
   "metadata": {},
   "outputs": [
    {
     "data": {
      "text/plain": [
       "array([[9432,    3, 4754],\n",
       "       [ 180, 1082,  450],\n",
       "       [  98,   21, 6523]])"
      ]
     },
     "execution_count": 68,
     "metadata": {},
     "output_type": "execute_result"
    }
   ],
   "source": [
    "cm_test_probe"
   ]
  },
  {
   "cell_type": "code",
   "execution_count": 69,
   "metadata": {},
   "outputs": [
    {
     "name": "stdout",
     "output_type": "stream",
     "text": [
      "Accuracy:  0.994602\n",
      "Precision: [ 0.99672935  0.98208955  0.99467915]\n",
      "Recall:    [ 0.99903144  0.97708952  0.99267205]\n",
      "F1:        [ 0.99787907  0.97958316  0.99367459]\n"
     ]
    }
   ],
   "source": [
    "numeric_evaluation(y_cv_probe, predictions_cv_probe)"
   ]
  },
  {
   "cell_type": "code",
   "execution_count": 70,
   "metadata": {},
   "outputs": [
    {
     "name": "stdout",
     "output_type": "stream",
     "text": [
      "Accuracy:  0.755756\n",
      "Precision: [ 0.66474029  0.63200935  0.98208371]\n",
      "Recall:    [ 0.97136972  0.97830018  0.55623774]\n",
      "F1:        [ 0.78932173  0.76792051  0.7102183 ]\n"
     ]
    }
   ],
   "source": [
    "numeric_evaluation(y_test_probe, predictions_test_probe)"
   ]
  },
  {
   "cell_type": "markdown",
   "metadata": {
    "collapsed": true
   },
   "source": [
    "# Random Forest (RF) for R2L#"
   ]
  },
  {
   "cell_type": "markdown",
   "metadata": {},
   "source": [
    "Random Forest necessita poco preprocessing delle feature. Il target deve essere numerico sequenziale"
   ]
  },
  {
   "cell_type": "code",
   "execution_count": 71,
   "metadata": {},
   "outputs": [],
   "source": [
    "# cross validation on the training set\n",
    "clf_r2l = RandomForestClassifier(n_jobs = 4, random_state = 42) #Initialize with whatever parameters you want to"
   ]
  },
  {
   "cell_type": "code",
   "execution_count": 72,
   "metadata": {},
   "outputs": [
    {
     "data": {
      "text/plain": [
       "RandomForestClassifier(bootstrap=True, class_weight=None, criterion='gini',\n",
       "            max_depth=None, max_features='auto', max_leaf_nodes=None,\n",
       "            min_impurity_decrease=0.0, min_impurity_split=None,\n",
       "            min_samples_leaf=1, min_samples_split=2,\n",
       "            min_weight_fraction_leaf=0.0, n_estimators=10, n_jobs=4,\n",
       "            oob_score=False, random_state=42, verbose=0, warm_start=False)"
      ]
     },
     "execution_count": 72,
     "metadata": {},
     "output_type": "execute_result"
    }
   ],
   "source": [
    "#start random forest training\n",
    "clf_r2l.fit(x_train, y_train_r2l)"
   ]
  },
  {
   "cell_type": "code",
   "execution_count": 73,
   "metadata": {},
   "outputs": [],
   "source": [
    "predictions_cv_r2l = clf_r2l.predict(x_cv)\n",
    "predictions_test_r2l = clf_r2l.predict(x_test)     "
   ]
  },
  {
   "cell_type": "code",
   "execution_count": 74,
   "metadata": {},
   "outputs": [],
   "source": [
    "cm_cv_r2l = cmatrix(y_cv_r2l, predictions_cv_r2l).T\n",
    "cm_test_r2l = cmatrix(y_test_r2l, predictions_test_r2l).T"
   ]
  },
  {
   "cell_type": "code",
   "execution_count": 75,
   "metadata": {},
   "outputs": [
    {
     "data": {
      "text/plain": [
       "array([[13409,    13,    30],\n",
       "       [    1,   211,     1],\n",
       "       [   12,     0, 11518]])"
      ]
     },
     "execution_count": 75,
     "metadata": {},
     "output_type": "execute_result"
    }
   ],
   "source": [
    "cm_cv_r2l"
   ]
  },
  {
   "cell_type": "code",
   "execution_count": 76,
   "metadata": {},
   "outputs": [
    {
     "data": {
      "text/plain": [
       "array([[9432, 1988, 2898],\n",
       "       [   2,  198,    2],\n",
       "       [ 276,   13, 7734]])"
      ]
     },
     "execution_count": 76,
     "metadata": {},
     "output_type": "execute_result"
    }
   ],
   "source": [
    "cm_test_r2l"
   ]
  },
  {
   "cell_type": "code",
   "execution_count": 91,
   "metadata": {},
   "outputs": [
    {
     "data": {
      "image/png": "[encoded data removed]",
      "text/plain": [
       "<matplotlib.figure.Figure at 0x7f53d132c1d0>"
      ]
     },
     "metadata": {},
     "output_type": "display_data"
    }
   ],
   "source": [
    "#confusion matrices\n",
    "\n",
    "matrix_evaluation(cm_cv)\n",
    "#matrix_evaluation(cm_test)"
   ]
  },
  {
   "cell_type": "code",
   "execution_count": 77,
   "metadata": {},
   "outputs": [
    {
     "name": "stdout",
     "output_type": "stream",
     "text": [
      "Accuracy:  0.997738\n",
      "Precision: [ 0.99680345  0.99061033  0.99895924]\n",
      "Recall:    [ 0.99903144  0.94196429  0.99731578]\n",
      "F1:        [ 0.9979162   0.96567506  0.99813683]\n"
     ]
    }
   ],
   "source": [
    "numeric_evaluation(y_cv_r2l, predictions_cv_r2l)"
   ]
  },
  {
   "cell_type": "code",
   "execution_count": 78,
   "metadata": {},
   "outputs": [
    {
     "name": "stdout",
     "output_type": "stream",
     "text": [
      "Accuracy:  0.770261\n",
      "Precision: [ 0.65875122  0.98019802  0.96397856]\n",
      "Recall:    [ 0.97136972  0.09004093  0.72728983]\n",
      "F1:        [ 0.78508407  0.16493128  0.8290722 ]\n"
     ]
    }
   ],
   "source": [
    "numeric_evaluation(y_test_r2l, predictions_test_r2l)"
   ]
  },
  {
   "cell_type": "markdown",
   "metadata": {
    "collapsed": true
   },
   "source": [
    "# Random Forest (RF) for U2R #"
   ]
  },
  {
   "cell_type": "markdown",
   "metadata": {},
   "source": [
    "Random Forest necessita poco preprocessing delle feature. Il target deve essere numerico sequenziale"
   ]
  },
  {
   "cell_type": "code",
   "execution_count": 79,
   "metadata": {},
   "outputs": [],
   "source": [
    "# cross validation on the training set\n",
    "clf_u2r = RandomForestClassifier(n_jobs = 4, random_state = 42) #Initialize with whatever parameters you want to"
   ]
  },
  {
   "cell_type": "code",
   "execution_count": 80,
   "metadata": {},
   "outputs": [
    {
     "data": {
      "text/plain": [
       "RandomForestClassifier(bootstrap=True, class_weight=None, criterion='gini',\n",
       "            max_depth=None, max_features='auto', max_leaf_nodes=None,\n",
       "            min_impurity_decrease=0.0, min_impurity_split=None,\n",
       "            min_samples_leaf=1, min_samples_split=2,\n",
       "            min_weight_fraction_leaf=0.0, n_estimators=10, n_jobs=4,\n",
       "            oob_score=False, random_state=42, verbose=0, warm_start=False)"
      ]
     },
     "execution_count": 80,
     "metadata": {},
     "output_type": "execute_result"
    }
   ],
   "source": [
    "#start random forest training\n",
    "clf_u2r.fit(x_train, y_train_u2r)"
   ]
  },
  {
   "cell_type": "code",
   "execution_count": 81,
   "metadata": {},
   "outputs": [],
   "source": [
    "predictions_cv_u2r = clf_u2r.predict(x_cv)\n",
    "predictions_test_u2r = clf_u2r.predict(x_test)     "
   ]
  },
  {
   "cell_type": "code",
   "execution_count": 82,
   "metadata": {},
   "outputs": [],
   "source": [
    "cm_cv_u2r = cmatrix(y_cv_u2r, predictions_cv_u2r).T\n",
    "cm_test_u2r = cmatrix(y_test_u2r, predictions_test_u2r).T"
   ]
  },
  {
   "cell_type": "code",
   "execution_count": 83,
   "metadata": {},
   "outputs": [
    {
     "data": {
      "text/plain": [
       "array([[13407,     7,    29],\n",
       "       [    1,     4,     0],\n",
       "       [   14,     0, 11733]])"
      ]
     },
     "execution_count": 83,
     "metadata": {},
     "output_type": "execute_result"
    }
   ],
   "source": [
    "cm_cv_u2r"
   ]
  },
  {
   "cell_type": "code",
   "execution_count": 84,
   "metadata": {},
   "outputs": [
    {
     "data": {
      "text/plain": [
       "array([[9342,   36, 4760],\n",
       "       [   1,    1,    2],\n",
       "       [ 367,    0, 8034]])"
      ]
     },
     "execution_count": 84,
     "metadata": {},
     "output_type": "execute_result"
    }
   ],
   "source": [
    "cm_test_u2r"
   ]
  },
  {
   "cell_type": "code",
   "execution_count": 85,
   "metadata": {},
   "outputs": [
    {
     "name": "stdout",
     "output_type": "stream",
     "text": [
      "Accuracy:  0.997976\n",
      "Precision: [ 0.99732203  0.8         0.99880821]\n",
      "Recall:    [ 0.99888243  0.36363636  0.99753443]\n",
      "F1:        [ 0.99810162  0.5         0.99817091]\n"
     ]
    }
   ],
   "source": [
    "numeric_evaluation(y_cv_u2r, predictions_cv_u2r)"
   ]
  },
  {
   "cell_type": "code",
   "execution_count": 86,
   "metadata": {},
   "outputs": [
    {
     "name": "stdout",
     "output_type": "stream",
     "text": [
      "Accuracy:  0.770838\n",
      "Precision: [ 0.66077239  0.25        0.95631472]\n",
      "Recall:    [ 0.96210093  0.02702703  0.62785245]\n",
      "F1:        [ 0.78346193  0.04878049  0.7580318 ]\n"
     ]
    }
   ],
   "source": [
    "numeric_evaluation(y_test_u2r, predictions_test_u2r)"
   ]
  },
  {
   "cell_type": "markdown",
   "metadata": {},
   "source": [
    "# Support Vector Machine (SVM) #"
   ]
  },
  {
   "cell_type": "code",
   "execution_count": 94,
   "metadata": {},
   "outputs": [],
   "source": [
    "# divido in maniera random tra train e test(comportamento di default)\n",
    "\n",
    "x_train, x_cv, y_train, y_cv = train_test_split(x_darpa, y_darpa, test_size=0.2, random_state=42)"
   ]
  },
  {
   "cell_type": "code",
   "execution_count": 95,
   "metadata": {},
   "outputs": [],
   "source": [
    "clf = svm.SVC(gamma = 0.001, C = 100)"
   ]
  },
  {
   "cell_type": "code",
   "execution_count": 96,
   "metadata": {},
   "outputs": [
    {
     "data": {
      "text/plain": [
       "SVC(C=100, cache_size=200, class_weight=None, coef0=0.0,\n",
       "  decision_function_shape='ovr', degree=3, gamma=0.001, kernel='rbf',\n",
       "  max_iter=-1, probability=False, random_state=None, shrinking=True,\n",
       "  tol=0.001, verbose=False)"
      ]
     },
     "execution_count": 96,
     "metadata": {},
     "output_type": "execute_result"
    }
   ],
   "source": [
    "# model training\n",
    "clf.fit(x_train, y_train)"
   ]
  },
  {
   "cell_type": "code",
   "execution_count": 97,
   "metadata": {},
   "outputs": [],
   "source": [
    "predictions_cv = clf.predict(x_cv)\n",
    "#predictions_test = clf.predict(x_test)"
   ]
  },
  {
   "cell_type": "code",
   "execution_count": 98,
   "metadata": {},
   "outputs": [],
   "source": [
    "cm_cv = cmatrix(y_cv, predictions_cv).T\n",
    "#cm_test = cmatrix(y_test, predictions_test).T"
   ]
  },
  {
   "cell_type": "code",
   "execution_count": 99,
   "metadata": {},
   "outputs": [
    {
     "data": {
      "image/png": "[encoded data removed]",
      "text/plain": [
       "<matplotlib.figure.Figure at 0x7f53d1113f50>"
      ]
     },
     "metadata": {},
     "output_type": "display_data"
    }
   ],
   "source": [
    "#confusion matrices\n",
    "\n",
    "matrix_evaluation(cm_cv)\n",
    "#matrix_evaluation(cm_test)"
   ]
  },
  {
   "cell_type": "code",
   "execution_count": 100,
   "metadata": {},
   "outputs": [
    {
     "name": "stdout",
     "output_type": "stream",
     "text": [
      "Accuracy:  0.904108\n",
      "Precision: [ 0.86146873  0.96921071]\n",
      "Recall:    [ 0.9771271   0.82086129]\n",
      "F1:        [ 0.91566013  0.88888889]\n"
     ]
    }
   ],
   "source": [
    "# in cross-validation\n",
    "numeric_evaluation(y_cv, predictions_cv)"
   ]
  },
  {
   "cell_type": "code",
   "execution_count": 41,
   "metadata": {},
   "outputs": [
    {
     "name": "stdout",
     "output_type": "stream",
     "text": [
      "Accuracy:  0.982568\n",
      "Precision: [ 0.97189506  0.99550451]\n",
      "Recall:    [ 0.99619857  0.96691114]\n",
      "F1:        [ 0.98389675  0.98099952]\n"
     ]
    }
   ],
   "source": [
    "# in test\n",
    "numeric_evaluation(y_test, predictions_test)"
   ]
  },
  {
   "cell_type": "markdown",
   "metadata": {},
   "source": [
    "# Logistic Regression (LR) #"
   ]
  },
  {
   "cell_type": "markdown",
   "metadata": {},
   "source": [
    "puo' essere che funzioni solo con 2 classi"
   ]
  },
  {
   "cell_type": "code",
   "execution_count": 28,
   "metadata": {
    "collapsed": true
   },
   "outputs": [],
   "source": [
    "# divido in maniera random tra train e test(comportamento di default)\n",
    "\n",
    "x_train, x_cv, y_train, y_cv = train_test_split(x_darpa, y_darpa, test_size=0.2, random_state=42)"
   ]
  },
  {
   "cell_type": "code",
   "execution_count": 29,
   "metadata": {
    "collapsed": true
   },
   "outputs": [],
   "source": [
    "clf = LogisticRegression(random_state=42)"
   ]
  },
  {
   "cell_type": "code",
   "execution_count": 30,
   "metadata": {},
   "outputs": [
    {
     "data": {
      "text/plain": [
       "LogisticRegression(C=1.0, class_weight=None, dual=False, fit_intercept=True,\n",
       "          intercept_scaling=1, max_iter=100, multi_class='ovr', n_jobs=1,\n",
       "          penalty='l2', random_state=42, solver='liblinear', tol=0.0001,\n",
       "          verbose=0, warm_start=False)"
      ]
     },
     "execution_count": 30,
     "metadata": {},
     "output_type": "execute_result"
    }
   ],
   "source": [
    "# model training\n",
    "clf.fit(x_train, y_train)"
   ]
  },
  {
   "cell_type": "code",
   "execution_count": 31,
   "metadata": {
    "collapsed": true
   },
   "outputs": [],
   "source": [
    "predictions_cv = clf.predict(x_cv)\n",
    "predictions_test = clf.predict(x_test)"
   ]
  },
  {
   "cell_type": "code",
   "execution_count": 32,
   "metadata": {
    "collapsed": true
   },
   "outputs": [],
   "source": [
    "cm_cv = cmatrix(y_cv, predictions_cv).T\n",
    "cm_test = cmatrix(y_test, predictions_test).T"
   ]
  },
  {
   "cell_type": "code",
   "execution_count": 33,
   "metadata": {},
   "outputs": [
    {
     "data": {
      "image/png": "[encoded data removed]",
      "text/plain": [
       "<matplotlib.figure.Figure at 0x7fde78104650>"
      ]
     },
     "metadata": {},
     "output_type": "display_data"
    }
   ],
   "source": [
    "matrix_evaluation(cm_cv)"
   ]
  },
  {
   "cell_type": "code",
   "execution_count": 34,
   "metadata": {},
   "outputs": [
    {
     "name": "stdout",
     "output_type": "stream",
     "text": [
      "Accuracy:  0.863267\n",
      "Precision: [ 0.83179248  0.90984252]\n",
      "Recall:    [ 0.93175384  0.78518644]\n",
      "F1:        [ 0.87894016  0.84293074]\n"
     ]
    }
   ],
   "source": [
    "numeric_evaluation(y_cv, predictions_cv)"
   ]
  },
  {
   "cell_type": "code",
   "execution_count": 35,
   "metadata": {},
   "outputs": [
    {
     "name": "stdout",
     "output_type": "stream",
     "text": [
      "Accuracy:  0.866043\n",
      "Precision: [ 0.83570136  0.91093396]\n",
      "Recall:    [ 0.93280668  0.78935698]\n",
      "F1:        [ 0.88158809  0.84579888]\n"
     ]
    }
   ],
   "source": [
    "numeric_evaluation(y_test, predictions_test)"
   ]
  },
  {
   "cell_type": "markdown",
   "metadata": {},
   "source": [
    "# Naive Bayes #"
   ]
  },
  {
   "cell_type": "code",
   "execution_count": 55,
   "metadata": {
    "collapsed": true
   },
   "outputs": [],
   "source": [
    "# divido in maniera random tra train e test(comportamento di default)\n",
    "\n",
    "x_train, x_cv, y_train, y_cv = train_test_split(x_darpa, y_darpa, test_size=0.2, random_state=42)"
   ]
  },
  {
   "cell_type": "code",
   "execution_count": 12,
   "metadata": {},
   "outputs": [],
   "source": [
    "clf = GaussianNB()"
   ]
  },
  {
   "cell_type": "code",
   "execution_count": 13,
   "metadata": {},
   "outputs": [
    {
     "data": {
      "text/plain": [
       "GaussianNB(priors=None)"
      ]
     },
     "execution_count": 13,
     "metadata": {},
     "output_type": "execute_result"
    }
   ],
   "source": [
    "clf.fit(x_train, y_train)"
   ]
  },
  {
   "cell_type": "code",
   "execution_count": 18,
   "metadata": {
    "collapsed": true
   },
   "outputs": [],
   "source": [
    "predictions_cv = clf.predict(x_cv)\n",
    "predictions_test = clf.predict(x_test)"
   ]
  },
  {
   "cell_type": "code",
   "execution_count": 19,
   "metadata": {},
   "outputs": [],
   "source": [
    "cm_cv = cmatrix(y_cv, predictions_cv).T\n",
    "cm_test = cmatrix(y_test, predictions_test).T"
   ]
  },
  {
   "cell_type": "code",
   "execution_count": 22,
   "metadata": {},
   "outputs": [
    {
     "data": {
      "image/png": "[encoded data removed]",
      "text/plain": [
       "<matplotlib.figure.Figure at 0x7fdf00388e50>"
      ]
     },
     "metadata": {},
     "output_type": "display_data"
    },
    {
     "data": {
      "image/png": "[encoded data removed]",
      "text/plain": [
       "<matplotlib.figure.Figure at 0x7fde783abe10>"
      ]
     },
     "metadata": {},
     "output_type": "display_data"
    }
   ],
   "source": [
    "#confusion matrices\n",
    "\n",
    "matrix_evaluation(cm_cv)\n",
    "matrix_evaluation(cm_test)"
   ]
  },
  {
   "cell_type": "code",
   "execution_count": 23,
   "metadata": {},
   "outputs": [
    {
     "name": "stdout",
     "output_type": "stream",
     "text": [
      "Accuracy:  0.532606\n",
      "Precision: [ 0.53320959  0.49636804]\n",
      "Recall:    [ 0.98450305  0.01741272]\n",
      "F1:        [ 0.69176003  0.03364517]\n"
     ]
    }
   ],
   "source": [
    "# in cross-validation\n",
    "numeric_evaluation(y_cv, predictions_cv)"
   ]
  },
  {
   "cell_type": "code",
   "execution_count": 25,
   "metadata": {},
   "outputs": [
    {
     "name": "stdout",
     "output_type": "stream",
     "text": [
      "Accuracy:  0.534543\n",
      "Precision: [ 0.53511743  0.49874309]\n",
      "Recall:    [ 0.98519519  0.01691967]\n",
      "F1:        [ 0.69353515  0.03272901]\n"
     ]
    }
   ],
   "source": [
    "# in test set\n",
    "numeric_evaluation(y_test, predictions_test)"
   ]
  },
  {
   "cell_type": "markdown",
   "metadata": {},
   "source": [
    "# K Nearest Neighbor (KNN) #"
   ]
  },
  {
   "cell_type": "code",
   "execution_count": 22,
   "metadata": {},
   "outputs": [],
   "source": [
    "clf = KNeighborsClassifier()\n",
    "clf.fit(x_train, y_train)\n",
    "\n",
    "# make predictions\n",
    "predictions_cv = clf.predict(x_cv)\n",
    "predictions_test = clf.predict(x_test)"
   ]
  },
  {
   "cell_type": "code",
   "execution_count": 23,
   "metadata": {},
   "outputs": [],
   "source": [
    "cm_cv = cmatrix(y_cv, predictions_cv).T\n",
    "cm_test = cmatrix(y_test, predictions_test).T"
   ]
  },
  {
   "cell_type": "code",
   "execution_count": 24,
   "metadata": {},
   "outputs": [
    {
     "data": {
      "text/plain": [
       "array([[9307,   78,    0],\n",
       "       [  86, 7928,    0],\n",
       "       [4029, 3767,    0]])"
      ]
     },
     "execution_count": 24,
     "metadata": {},
     "output_type": "execute_result"
    }
   ],
   "source": [
    "cm_cv"
   ]
  },
  {
   "cell_type": "code",
   "execution_count": 25,
   "metadata": {},
   "outputs": [
    {
     "data": {
      "text/plain": [
       "array([[6244, 3243,    0],\n",
       "       [ 249, 5494,    0],\n",
       "       [3217, 4096,    0]])"
      ]
     },
     "execution_count": 25,
     "metadata": {},
     "output_type": "execute_result"
    }
   ],
   "source": [
    "cm_test"
   ]
  },
  {
   "cell_type": "code",
   "execution_count": 81,
   "metadata": {},
   "outputs": [
    {
     "data": {
      "image/png": "[encoded data removed]",
      "text/plain": [
       "<matplotlib.figure.Figure at 0x7fde71f7b610>"
      ]
     },
     "metadata": {},
     "output_type": "display_data"
    },
    {
     "data": {
      "image/png": "[encoded data removed]",
      "text/plain": [
       "<matplotlib.figure.Figure at 0x7fde71f7b1d0>"
      ]
     },
     "metadata": {},
     "output_type": "display_data"
    }
   ],
   "source": [
    "# confusion matrices\n",
    "matrix_evaluation(cm_cv)\n",
    "matrix_evaluation(cm_test)"
   ]
  },
  {
   "cell_type": "code",
   "execution_count": 26,
   "metadata": {},
   "outputs": [
    {
     "name": "stdout",
     "output_type": "stream",
     "text": [
      "Accuracy:  0.684064\n",
      "Precision: [ 0.99168887  0.98926878  0.        ]\n",
      "Recall:    [ 0.6934138   0.67340525  0.        ]\n",
      "F1:        [ 0.81615294  0.80133421  0.        ]\n"
     ]
    },
    {
     "name": "stderr",
     "output_type": "stream",
     "text": [
      "/usr/local/lib/python3.5/dist-packages/sklearn/metrics/classification.py:1137: UndefinedMetricWarning: Recall is ill-defined and being set to 0.0 in labels with no true samples.\n",
      "  'recall', 'true', average, warn_for)\n",
      "/usr/local/lib/python3.5/dist-packages/sklearn/metrics/classification.py:1137: UndefinedMetricWarning: F-score is ill-defined and being set to 0.0 in labels with no true samples.\n",
      "  'recall', 'true', average, warn_for)\n"
     ]
    }
   ],
   "source": [
    "# in cross-validation\n",
    "numeric_evaluation(y_cv, predictions_cv)"
   ]
  },
  {
   "cell_type": "code",
   "execution_count": 83,
   "metadata": {},
   "outputs": [
    {
     "name": "stdout",
     "output_type": "stream",
     "text": [
      "Accuracy:  0.979115\n",
      "Precision: [ 0.99727969  0.95970906]\n",
      "Recall:    [ 0.96355969  0.99698107]\n",
      "F1:        [ 0.98012975  0.97799008]\n"
     ]
    }
   ],
   "source": [
    "numeric_evaluation(y_test, predictions_test)"
   ]
  },
  {
   "cell_type": "markdown",
   "metadata": {},
   "source": [
    "# Evaluation #"
   ]
  },
  {
   "cell_type": "code",
   "execution_count": 57,
   "metadata": {},
   "outputs": [],
   "source": [
    "# print a nice confusion matrix\n",
    "def matrix_evaluation(cm):\n",
    "\n",
    "    fig, ax = plt.subplots(figsize=(4,2))\n",
    "\n",
    "    sns.heatmap(cm, annot=True, annot_kws={\"size\":16}, fmt=\".0f\", cbar=False, cmap=sns.color_palette(\"Blues\"))\n",
    "\n",
    "    # labels, title and ticks\n",
    "    ax.set_xlabel('True labels', fontsize=20)\n",
    "    ax.set_ylabel('Predicted', fontsize=20)\n",
    "\n",
    "\n",
    "    ax.xaxis.set_ticklabels(['Normal', 'Attack'], fontsize=15)\n",
    "    ax.yaxis.set_ticklabels(['Normal', 'Attack'], fontsize=15)\n",
    "\n",
    "    plt.yticks(rotation=0)\n",
    "    plt.show()\n",
    "\n",
    "def numeric_evaluation(y_cv, predictions):\n",
    "    \n",
    "    print(\"Accuracy:  %f\" %accuracy_score(y_cv, predictions))\n",
    "    print(\"Precision: %s\" %precision_score(y_cv, predictions, average=None))\n",
    "    print(\"Recall:    %s\" %recall_score(y_cv, predictions, average=None))\n",
    "    print(\"F1:        %s\" %f1_score(y_cv, predictions, average=None))\n",
    "    "
   ]
  },
  {
   "cell_type": "markdown",
   "metadata": {},
   "source": [
    "# Missclassified Analysis #"
   ]
  },
  {
   "cell_type": "code",
   "execution_count": 77,
   "metadata": {},
   "outputs": [],
   "source": [
    "x_cv_analysis = x_cv.copy()"
   ]
  },
  {
   "cell_type": "code",
   "execution_count": 99,
   "metadata": {},
   "outputs": [],
   "source": [
    "#\"neptune\",\"smurf\", \"back\", \"teardrop\", \"pod\", \"land\"\n",
    "\n",
    "x_cv_analysis.loc[:, \"TRUTH\"] = df.loc[x_cv.index, \"label\"]\n",
    "#x_cv_analysis.replace(to_replace=\"normal\", value=0, inplace=True)\n",
    "#x_cv_analysis.replace(to_replace=[\"neptune\",\"smurf\", \"back\", \"teardrop\", \"pod\", \"land\"], value = 1, inplace=True)\n",
    "\n",
    "x_cv_analysis.loc[:, \"PREDICTION\"] = clf.predict(x_cv)\n",
    "#x_cv_analysis.loc[:, \"GUESSED\"] = False\n",
    "x_cv_analysis.loc[:, \"GUESSED\"] = x_cv_analysis.loc[:, \"TRUTH\"].isin([1]) & x_cv_analysis.loc[:, \"PREDICTION\"].isin([0])"
   ]
  },
  {
   "cell_type": "code",
   "execution_count": 85,
   "metadata": {},
   "outputs": [
    {
     "data": {
      "text/html": [
       "<div>\n",
       "<style>\n",
       "    .dataframe thead tr:only-child th {\n",
       "        text-align: right;\n",
       "    }\n",
       "\n",
       "    .dataframe thead th {\n",
       "        text-align: left;\n",
       "    }\n",
       "\n",
       "    .dataframe tbody tr th {\n",
       "        vertical-align: top;\n",
       "    }\n",
       "</style>\n",
       "<table border=\"1\" class=\"dataframe\">\n",
       "  <thead>\n",
       "    <tr style=\"text-align: right;\">\n",
       "      <th></th>\n",
       "      <th>duration</th>\n",
       "      <th>src_bytes</th>\n",
       "      <th>dst_bytes</th>\n",
       "      <th>urgent</th>\n",
       "      <th>count</th>\n",
       "      <th>srv_count</th>\n",
       "      <th>same_srv_rate</th>\n",
       "      <th>dst_host_count</th>\n",
       "      <th>dst_host_srv_count</th>\n",
       "      <th>dst_host_same_srv_rate</th>\n",
       "      <th>...</th>\n",
       "      <th>service_time</th>\n",
       "      <th>service_urh_i</th>\n",
       "      <th>service_urp_i</th>\n",
       "      <th>service_uucp</th>\n",
       "      <th>service_uucp_path</th>\n",
       "      <th>service_vmnet</th>\n",
       "      <th>service_whois</th>\n",
       "      <th>TRUTH</th>\n",
       "      <th>PREDICTION</th>\n",
       "      <th>GUESSED</th>\n",
       "    </tr>\n",
       "  </thead>\n",
       "  <tbody>\n",
       "    <tr>\n",
       "      <th>378</th>\n",
       "      <td>0.0</td>\n",
       "      <td>2.608764e-08</td>\n",
       "      <td>0.0</td>\n",
       "      <td>0</td>\n",
       "      <td>0.003914</td>\n",
       "      <td>0.007828</td>\n",
       "      <td>1.00</td>\n",
       "      <td>0.262745</td>\n",
       "      <td>0.670588</td>\n",
       "      <td>1.00</td>\n",
       "      <td>...</td>\n",
       "      <td>0</td>\n",
       "      <td>0</td>\n",
       "      <td>0</td>\n",
       "      <td>0</td>\n",
       "      <td>0</td>\n",
       "      <td>0</td>\n",
       "      <td>0</td>\n",
       "      <td>0</td>\n",
       "      <td>2</td>\n",
       "      <td>False</td>\n",
       "    </tr>\n",
       "    <tr>\n",
       "      <th>32038</th>\n",
       "      <td>0.0</td>\n",
       "      <td>0.000000e+00</td>\n",
       "      <td>0.0</td>\n",
       "      <td>0</td>\n",
       "      <td>0.082192</td>\n",
       "      <td>0.021526</td>\n",
       "      <td>0.26</td>\n",
       "      <td>1.000000</td>\n",
       "      <td>0.172549</td>\n",
       "      <td>0.17</td>\n",
       "      <td>...</td>\n",
       "      <td>0</td>\n",
       "      <td>0</td>\n",
       "      <td>0</td>\n",
       "      <td>0</td>\n",
       "      <td>0</td>\n",
       "      <td>0</td>\n",
       "      <td>0</td>\n",
       "      <td>1</td>\n",
       "      <td>2</td>\n",
       "      <td>False</td>\n",
       "    </tr>\n",
       "    <tr>\n",
       "      <th>86399</th>\n",
       "      <td>0.0</td>\n",
       "      <td>0.000000e+00</td>\n",
       "      <td>0.0</td>\n",
       "      <td>0</td>\n",
       "      <td>0.555773</td>\n",
       "      <td>0.039139</td>\n",
       "      <td>0.07</td>\n",
       "      <td>1.000000</td>\n",
       "      <td>0.078431</td>\n",
       "      <td>0.08</td>\n",
       "      <td>...</td>\n",
       "      <td>0</td>\n",
       "      <td>0</td>\n",
       "      <td>0</td>\n",
       "      <td>0</td>\n",
       "      <td>0</td>\n",
       "      <td>0</td>\n",
       "      <td>0</td>\n",
       "      <td>1</td>\n",
       "      <td>1</td>\n",
       "      <td>True</td>\n",
       "    </tr>\n",
       "    <tr>\n",
       "      <th>74412</th>\n",
       "      <td>0.0</td>\n",
       "      <td>0.000000e+00</td>\n",
       "      <td>0.0</td>\n",
       "      <td>0</td>\n",
       "      <td>0.215264</td>\n",
       "      <td>0.015656</td>\n",
       "      <td>0.07</td>\n",
       "      <td>1.000000</td>\n",
       "      <td>0.105882</td>\n",
       "      <td>0.11</td>\n",
       "      <td>...</td>\n",
       "      <td>0</td>\n",
       "      <td>0</td>\n",
       "      <td>0</td>\n",
       "      <td>0</td>\n",
       "      <td>0</td>\n",
       "      <td>0</td>\n",
       "      <td>0</td>\n",
       "      <td>1</td>\n",
       "      <td>2</td>\n",
       "      <td>False</td>\n",
       "    </tr>\n",
       "    <tr>\n",
       "      <th>52951</th>\n",
       "      <td>0.0</td>\n",
       "      <td>0.000000e+00</td>\n",
       "      <td>0.0</td>\n",
       "      <td>0</td>\n",
       "      <td>0.001957</td>\n",
       "      <td>0.001957</td>\n",
       "      <td>1.00</td>\n",
       "      <td>0.525490</td>\n",
       "      <td>0.003922</td>\n",
       "      <td>0.01</td>\n",
       "      <td>...</td>\n",
       "      <td>0</td>\n",
       "      <td>0</td>\n",
       "      <td>0</td>\n",
       "      <td>0</td>\n",
       "      <td>0</td>\n",
       "      <td>0</td>\n",
       "      <td>0</td>\n",
       "      <td>portsweep</td>\n",
       "      <td>2</td>\n",
       "      <td>False</td>\n",
       "    </tr>\n",
       "  </tbody>\n",
       "</table>\n",
       "<p>5 rows × 87 columns</p>\n",
       "</div>"
      ],
      "text/plain": [
       "       duration     src_bytes  dst_bytes  urgent     count  srv_count  \\\n",
       "378         0.0  2.608764e-08        0.0       0  0.003914   0.007828   \n",
       "32038       0.0  0.000000e+00        0.0       0  0.082192   0.021526   \n",
       "86399       0.0  0.000000e+00        0.0       0  0.555773   0.039139   \n",
       "74412       0.0  0.000000e+00        0.0       0  0.215264   0.015656   \n",
       "52951       0.0  0.000000e+00        0.0       0  0.001957   0.001957   \n",
       "\n",
       "       same_srv_rate  dst_host_count  dst_host_srv_count  \\\n",
       "378             1.00        0.262745            0.670588   \n",
       "32038           0.26        1.000000            0.172549   \n",
       "86399           0.07        1.000000            0.078431   \n",
       "74412           0.07        1.000000            0.105882   \n",
       "52951           1.00        0.525490            0.003922   \n",
       "\n",
       "       dst_host_same_srv_rate   ...     service_time  service_urh_i  \\\n",
       "378                      1.00   ...                0              0   \n",
       "32038                    0.17   ...                0              0   \n",
       "86399                    0.08   ...                0              0   \n",
       "74412                    0.11   ...                0              0   \n",
       "52951                    0.01   ...                0              0   \n",
       "\n",
       "       service_urp_i  service_uucp  service_uucp_path  service_vmnet  \\\n",
       "378                0             0                  0              0   \n",
       "32038              0             0                  0              0   \n",
       "86399              0             0                  0              0   \n",
       "74412              0             0                  0              0   \n",
       "52951              0             0                  0              0   \n",
       "\n",
       "       service_whois      TRUTH  PREDICTION  GUESSED  \n",
       "378                0          0           2    False  \n",
       "32038              0          1           2    False  \n",
       "86399              0          1           1     True  \n",
       "74412              0          1           2    False  \n",
       "52951              0  portsweep           2    False  \n",
       "\n",
       "[5 rows x 87 columns]"
      ]
     },
     "execution_count": 85,
     "metadata": {},
     "output_type": "execute_result"
    }
   ],
   "source": [
    "x_cv_analysis.head()"
   ]
  },
  {
   "cell_type": "code",
   "execution_count": 38,
   "metadata": {},
   "outputs": [
    {
     "data": {
      "text/plain": [
       "True     25087\n",
       "False      108\n",
       "Name: GUESSED, dtype: int64"
      ]
     },
     "execution_count": 38,
     "metadata": {},
     "output_type": "execute_result"
    }
   ],
   "source": [
    "x_cv_analysis[\"GUESSED\"].value_counts()"
   ]
  },
  {
   "cell_type": "code",
   "execution_count": 39,
   "metadata": {},
   "outputs": [
    {
     "data": {
      "text/plain": [
       "array([[ 1.,  0.],\n",
       "       [ 0.,  1.],\n",
       "       [ 0.,  1.],\n",
       "       ..., \n",
       "       [ 1.,  0.],\n",
       "       [ 1.,  0.],\n",
       "       [ 0.,  1.]])"
      ]
     },
     "execution_count": 39,
     "metadata": {},
     "output_type": "execute_result"
    }
   ],
   "source": [
    "#show the proability of each prediction\n",
    "clf.predict_proba(x_cv)"
   ]
  },
  {
   "cell_type": "markdown",
   "metadata": {},
   "source": [
    "# COMBINING MODELS #"
   ]
  },
  {
   "cell_type": "code",
   "execution_count": 91,
   "metadata": {},
   "outputs": [],
   "source": [
    "# we now are going to coming the FOUR models to predict if a sample is NORMAL or ATTACK.\n",
    "# We classify as ATTACK if at least one model flags the sample as a threat, and NORMAL if ALL the models say that it is NORMAL.\n",
    "# the remaning cases are classified as DONT KNOW\n",
    "\n",
    "\n",
    "x_cv_analysis = x_cv.copy()\n",
    "x_test_analysis = x_test.copy()\n",
    "\n",
    "# CV\n",
    "x_cv_analysis[\"prediction_dos\"] = predictions_cv_dos\n",
    "x_cv_analysis[\"prediction_probe\"] = predictions_cv_probe\n",
    "x_cv_analysis[\"prediction_r2l\"] = predictions_cv_r2l\n",
    "x_cv_analysis[\"prediction_u2r\"] = predictions_cv_u2r\n",
    "\n",
    "# TEST\n",
    "x_test_analysis[\"prediction_dos\"] = predictions_test_dos\n",
    "x_test_analysis[\"prediction_probe\"] = predictions_test_probe\n",
    "x_test_analysis[\"prediction_r2l\"] = predictions_test_r2l\n",
    "x_test_analysis[\"prediction_u2r\"] = predictions_test_u2r"
   ]
  },
  {
   "cell_type": "code",
   "execution_count": 92,
   "metadata": {},
   "outputs": [],
   "source": [
    "att_cv = (x_cv_analysis[\"prediction_dos\"] == 1) | (x_cv_analysis[\"prediction_probe\"] == 1) | (x_cv_analysis[\"prediction_r2l\"] == 1) | (x_cv_analysis[\"prediction_u2r\"] == 1)\n",
    "norm_cv = (x_cv_analysis[\"prediction_dos\"] == 0) & (x_cv_analysis[\"prediction_probe\"] == 0) & (x_cv_analysis[\"prediction_r2l\"] == 0) & (x_cv_analysis[\"prediction_u2r\"] == 0)\n",
    "\n",
    "\n",
    "att_test = (x_test_analysis[\"prediction_dos\"] == 1) | (x_test_analysis[\"prediction_probe\"] == 1) | (x_test_analysis[\"prediction_r2l\"] == 1) | (x_test_analysis[\"prediction_u2r\"] == 1)\n",
    "norm_test = (x_test_analysis[\"prediction_dos\"] == 0) & (x_test_analysis[\"prediction_probe\"] == 0) & (x_test_analysis[\"prediction_r2l\"] == 0) & (x_test_analysis[\"prediction_u2r\"] == 0)"
   ]
  },
  {
   "cell_type": "code",
   "execution_count": 93,
   "metadata": {},
   "outputs": [],
   "source": [
    "# CV\n",
    "x_cv_analysis[\"prediction_final\"] = 2\n",
    "x_cv_analysis.loc[att_cv.values, \"prediction_final\"] = 1\n",
    "x_cv_analysis.loc[norm_cv.values, \"prediction_final\"] = 0\n",
    "\n",
    "# TEST\n",
    "x_test_analysis[\"prediction_final\"] = 2\n",
    "x_test_analysis.loc[att_test.values, \"prediction_final\"] = 1\n",
    "x_test_analysis.loc[norm_test.values, \"prediction_final\"] = 0"
   ]
  },
  {
   "cell_type": "code",
   "execution_count": 94,
   "metadata": {},
   "outputs": [
    {
     "data": {
      "text/html": [
       "<div>\n",
       "<style>\n",
       "    .dataframe thead tr:only-child th {\n",
       "        text-align: right;\n",
       "    }\n",
       "\n",
       "    .dataframe thead th {\n",
       "        text-align: left;\n",
       "    }\n",
       "\n",
       "    .dataframe tbody tr th {\n",
       "        vertical-align: top;\n",
       "    }\n",
       "</style>\n",
       "<table border=\"1\" class=\"dataframe\">\n",
       "  <thead>\n",
       "    <tr style=\"text-align: right;\">\n",
       "      <th></th>\n",
       "      <th>duration</th>\n",
       "      <th>src_bytes</th>\n",
       "      <th>dst_bytes</th>\n",
       "      <th>urgent</th>\n",
       "      <th>count</th>\n",
       "      <th>srv_count</th>\n",
       "      <th>same_srv_rate</th>\n",
       "      <th>dst_host_count</th>\n",
       "      <th>dst_host_srv_count</th>\n",
       "      <th>dst_host_same_srv_rate</th>\n",
       "      <th>...</th>\n",
       "      <th>service_urp_i</th>\n",
       "      <th>service_uucp</th>\n",
       "      <th>service_uucp_path</th>\n",
       "      <th>service_vmnet</th>\n",
       "      <th>service_whois</th>\n",
       "      <th>prediction_dos</th>\n",
       "      <th>prediction_probe</th>\n",
       "      <th>prediction_r2l</th>\n",
       "      <th>prediction_u2r</th>\n",
       "      <th>prediction_final</th>\n",
       "    </tr>\n",
       "  </thead>\n",
       "  <tbody>\n",
       "    <tr>\n",
       "      <th>378</th>\n",
       "      <td>0</td>\n",
       "      <td>36</td>\n",
       "      <td>0</td>\n",
       "      <td>0</td>\n",
       "      <td>2</td>\n",
       "      <td>4</td>\n",
       "      <td>1.00</td>\n",
       "      <td>67</td>\n",
       "      <td>171</td>\n",
       "      <td>1.00</td>\n",
       "      <td>...</td>\n",
       "      <td>0</td>\n",
       "      <td>0</td>\n",
       "      <td>0</td>\n",
       "      <td>0</td>\n",
       "      <td>0</td>\n",
       "      <td>0</td>\n",
       "      <td>0</td>\n",
       "      <td>0</td>\n",
       "      <td>0</td>\n",
       "      <td>0</td>\n",
       "    </tr>\n",
       "    <tr>\n",
       "      <th>32038</th>\n",
       "      <td>0</td>\n",
       "      <td>0</td>\n",
       "      <td>0</td>\n",
       "      <td>0</td>\n",
       "      <td>42</td>\n",
       "      <td>11</td>\n",
       "      <td>0.26</td>\n",
       "      <td>255</td>\n",
       "      <td>44</td>\n",
       "      <td>0.17</td>\n",
       "      <td>...</td>\n",
       "      <td>0</td>\n",
       "      <td>0</td>\n",
       "      <td>0</td>\n",
       "      <td>0</td>\n",
       "      <td>0</td>\n",
       "      <td>1</td>\n",
       "      <td>2</td>\n",
       "      <td>2</td>\n",
       "      <td>2</td>\n",
       "      <td>1</td>\n",
       "    </tr>\n",
       "    <tr>\n",
       "      <th>86399</th>\n",
       "      <td>0</td>\n",
       "      <td>0</td>\n",
       "      <td>0</td>\n",
       "      <td>0</td>\n",
       "      <td>284</td>\n",
       "      <td>20</td>\n",
       "      <td>0.07</td>\n",
       "      <td>255</td>\n",
       "      <td>20</td>\n",
       "      <td>0.08</td>\n",
       "      <td>...</td>\n",
       "      <td>0</td>\n",
       "      <td>0</td>\n",
       "      <td>0</td>\n",
       "      <td>0</td>\n",
       "      <td>0</td>\n",
       "      <td>1</td>\n",
       "      <td>2</td>\n",
       "      <td>2</td>\n",
       "      <td>2</td>\n",
       "      <td>1</td>\n",
       "    </tr>\n",
       "    <tr>\n",
       "      <th>74412</th>\n",
       "      <td>0</td>\n",
       "      <td>0</td>\n",
       "      <td>0</td>\n",
       "      <td>0</td>\n",
       "      <td>110</td>\n",
       "      <td>8</td>\n",
       "      <td>0.07</td>\n",
       "      <td>255</td>\n",
       "      <td>27</td>\n",
       "      <td>0.11</td>\n",
       "      <td>...</td>\n",
       "      <td>0</td>\n",
       "      <td>0</td>\n",
       "      <td>0</td>\n",
       "      <td>0</td>\n",
       "      <td>0</td>\n",
       "      <td>1</td>\n",
       "      <td>2</td>\n",
       "      <td>2</td>\n",
       "      <td>2</td>\n",
       "      <td>1</td>\n",
       "    </tr>\n",
       "    <tr>\n",
       "      <th>52951</th>\n",
       "      <td>0</td>\n",
       "      <td>0</td>\n",
       "      <td>0</td>\n",
       "      <td>0</td>\n",
       "      <td>1</td>\n",
       "      <td>1</td>\n",
       "      <td>1.00</td>\n",
       "      <td>134</td>\n",
       "      <td>1</td>\n",
       "      <td>0.01</td>\n",
       "      <td>...</td>\n",
       "      <td>0</td>\n",
       "      <td>0</td>\n",
       "      <td>0</td>\n",
       "      <td>0</td>\n",
       "      <td>0</td>\n",
       "      <td>2</td>\n",
       "      <td>1</td>\n",
       "      <td>2</td>\n",
       "      <td>2</td>\n",
       "      <td>1</td>\n",
       "    </tr>\n",
       "    <tr>\n",
       "      <th>62143</th>\n",
       "      <td>0</td>\n",
       "      <td>325</td>\n",
       "      <td>4673</td>\n",
       "      <td>0</td>\n",
       "      <td>20</td>\n",
       "      <td>20</td>\n",
       "      <td>1.00</td>\n",
       "      <td>255</td>\n",
       "      <td>255</td>\n",
       "      <td>1.00</td>\n",
       "      <td>...</td>\n",
       "      <td>0</td>\n",
       "      <td>0</td>\n",
       "      <td>0</td>\n",
       "      <td>0</td>\n",
       "      <td>0</td>\n",
       "      <td>0</td>\n",
       "      <td>0</td>\n",
       "      <td>0</td>\n",
       "      <td>0</td>\n",
       "      <td>0</td>\n",
       "    </tr>\n",
       "    <tr>\n",
       "      <th>21449</th>\n",
       "      <td>0</td>\n",
       "      <td>0</td>\n",
       "      <td>0</td>\n",
       "      <td>0</td>\n",
       "      <td>133</td>\n",
       "      <td>13</td>\n",
       "      <td>0.10</td>\n",
       "      <td>255</td>\n",
       "      <td>33</td>\n",
       "      <td>0.13</td>\n",
       "      <td>...</td>\n",
       "      <td>0</td>\n",
       "      <td>0</td>\n",
       "      <td>0</td>\n",
       "      <td>0</td>\n",
       "      <td>0</td>\n",
       "      <td>1</td>\n",
       "      <td>2</td>\n",
       "      <td>2</td>\n",
       "      <td>2</td>\n",
       "      <td>1</td>\n",
       "    </tr>\n",
       "    <tr>\n",
       "      <th>120009</th>\n",
       "      <td>0</td>\n",
       "      <td>0</td>\n",
       "      <td>0</td>\n",
       "      <td>0</td>\n",
       "      <td>101</td>\n",
       "      <td>17</td>\n",
       "      <td>0.17</td>\n",
       "      <td>255</td>\n",
       "      <td>17</td>\n",
       "      <td>0.07</td>\n",
       "      <td>...</td>\n",
       "      <td>0</td>\n",
       "      <td>0</td>\n",
       "      <td>0</td>\n",
       "      <td>0</td>\n",
       "      <td>0</td>\n",
       "      <td>1</td>\n",
       "      <td>2</td>\n",
       "      <td>2</td>\n",
       "      <td>2</td>\n",
       "      <td>1</td>\n",
       "    </tr>\n",
       "    <tr>\n",
       "      <th>34191</th>\n",
       "      <td>0</td>\n",
       "      <td>0</td>\n",
       "      <td>0</td>\n",
       "      <td>0</td>\n",
       "      <td>285</td>\n",
       "      <td>18</td>\n",
       "      <td>0.06</td>\n",
       "      <td>255</td>\n",
       "      <td>18</td>\n",
       "      <td>0.07</td>\n",
       "      <td>...</td>\n",
       "      <td>0</td>\n",
       "      <td>0</td>\n",
       "      <td>0</td>\n",
       "      <td>0</td>\n",
       "      <td>0</td>\n",
       "      <td>1</td>\n",
       "      <td>2</td>\n",
       "      <td>2</td>\n",
       "      <td>2</td>\n",
       "      <td>1</td>\n",
       "    </tr>\n",
       "    <tr>\n",
       "      <th>66591</th>\n",
       "      <td>0</td>\n",
       "      <td>743</td>\n",
       "      <td>335</td>\n",
       "      <td>0</td>\n",
       "      <td>1</td>\n",
       "      <td>2</td>\n",
       "      <td>1.00</td>\n",
       "      <td>138</td>\n",
       "      <td>85</td>\n",
       "      <td>0.62</td>\n",
       "      <td>...</td>\n",
       "      <td>0</td>\n",
       "      <td>0</td>\n",
       "      <td>0</td>\n",
       "      <td>0</td>\n",
       "      <td>0</td>\n",
       "      <td>0</td>\n",
       "      <td>0</td>\n",
       "      <td>0</td>\n",
       "      <td>0</td>\n",
       "      <td>0</td>\n",
       "    </tr>\n",
       "  </tbody>\n",
       "</table>\n",
       "<p>10 rows × 89 columns</p>\n",
       "</div>"
      ],
      "text/plain": [
       "        duration  src_bytes  dst_bytes  urgent  count  srv_count  \\\n",
       "378            0         36          0       0      2          4   \n",
       "32038          0          0          0       0     42         11   \n",
       "86399          0          0          0       0    284         20   \n",
       "74412          0          0          0       0    110          8   \n",
       "52951          0          0          0       0      1          1   \n",
       "62143          0        325       4673       0     20         20   \n",
       "21449          0          0          0       0    133         13   \n",
       "120009         0          0          0       0    101         17   \n",
       "34191          0          0          0       0    285         18   \n",
       "66591          0        743        335       0      1          2   \n",
       "\n",
       "        same_srv_rate  dst_host_count  dst_host_srv_count  \\\n",
       "378              1.00              67                 171   \n",
       "32038            0.26             255                  44   \n",
       "86399            0.07             255                  20   \n",
       "74412            0.07             255                  27   \n",
       "52951            1.00             134                   1   \n",
       "62143            1.00             255                 255   \n",
       "21449            0.10             255                  33   \n",
       "120009           0.17             255                  17   \n",
       "34191            0.06             255                  18   \n",
       "66591            1.00             138                  85   \n",
       "\n",
       "        dst_host_same_srv_rate        ...         service_urp_i  service_uucp  \\\n",
       "378                       1.00        ...                     0             0   \n",
       "32038                     0.17        ...                     0             0   \n",
       "86399                     0.08        ...                     0             0   \n",
       "74412                     0.11        ...                     0             0   \n",
       "52951                     0.01        ...                     0             0   \n",
       "62143                     1.00        ...                     0             0   \n",
       "21449                     0.13        ...                     0             0   \n",
       "120009                    0.07        ...                     0             0   \n",
       "34191                     0.07        ...                     0             0   \n",
       "66591                     0.62        ...                     0             0   \n",
       "\n",
       "        service_uucp_path  service_vmnet  service_whois  prediction_dos  \\\n",
       "378                     0              0              0               0   \n",
       "32038                   0              0              0               1   \n",
       "86399                   0              0              0               1   \n",
       "74412                   0              0              0               1   \n",
       "52951                   0              0              0               2   \n",
       "62143                   0              0              0               0   \n",
       "21449                   0              0              0               1   \n",
       "120009                  0              0              0               1   \n",
       "34191                   0              0              0               1   \n",
       "66591                   0              0              0               0   \n",
       "\n",
       "        prediction_probe  prediction_r2l  prediction_u2r  prediction_final  \n",
       "378                    0               0               0                 0  \n",
       "32038                  2               2               2                 1  \n",
       "86399                  2               2               2                 1  \n",
       "74412                  2               2               2                 1  \n",
       "52951                  1               2               2                 1  \n",
       "62143                  0               0               0                 0  \n",
       "21449                  2               2               2                 1  \n",
       "120009                 2               2               2                 1  \n",
       "34191                  2               2               2                 1  \n",
       "66591                  0               0               0                 0  \n",
       "\n",
       "[10 rows x 89 columns]"
      ]
     },
     "execution_count": 94,
     "metadata": {},
     "output_type": "execute_result"
    }
   ],
   "source": [
    "x_cv_analysis.head(10)"
   ]
  },
  {
   "cell_type": "code",
   "execution_count": 95,
   "metadata": {},
   "outputs": [
    {
     "data": {
      "text/plain": [
       "0    13397\n",
       "1     8205\n",
       "2      941\n",
       "Name: prediction_final, dtype: int64"
      ]
     },
     "execution_count": 95,
     "metadata": {},
     "output_type": "execute_result"
    }
   ],
   "source": [
    "x_test_analysis[\"prediction_final\"].value_counts()"
   ]
  },
  {
   "cell_type": "code",
   "execution_count": 96,
   "metadata": {},
   "outputs": [
    {
     "data": {
      "text/plain": [
       "0    13423\n",
       "1    11740\n",
       "2       32\n",
       "Name: prediction_final, dtype: int64"
      ]
     },
     "execution_count": 96,
     "metadata": {},
     "output_type": "execute_result"
    }
   ],
   "source": [
    "x_cv_analysis[\"prediction_final\"].value_counts()"
   ]
  },
  {
   "cell_type": "code",
   "execution_count": 97,
   "metadata": {},
   "outputs": [
    {
     "data": {
      "text/plain": [
       "array([[13399,    24,     0],\n",
       "       [   11, 11729,     0],\n",
       "       [   12,    20,     0]])"
      ]
     },
     "execution_count": 97,
     "metadata": {},
     "output_type": "execute_result"
    }
   ],
   "source": [
    "# per CV\n",
    "cm_cv_final = cmatrix(y__cv.loc[x_cv_analysis.index], x_cv_analysis[\"prediction_final\"]).T\n",
    "cm_cv_final"
   ]
  },
  {
   "cell_type": "code",
   "execution_count": 98,
   "metadata": {},
   "outputs": [
    {
     "data": {
      "text/plain": [
       "array([[9322, 4075,    0],\n",
       "       [ 278, 7927,    0],\n",
       "       [ 110,  831,    0]])"
      ]
     },
     "execution_count": 98,
     "metadata": {},
     "output_type": "execute_result"
    }
   ],
   "source": [
    "cm_test_final = cmatrix(y__test, x_test_analysis[\"prediction_final\"]).T\n",
    "cm_test_final"
   ]
  },
  {
   "cell_type": "code",
   "execution_count": null,
   "metadata": {},
   "outputs": [],
   "source": [
    "DA MIGLIORARE:\n",
    "\n",
    "array([[9322, 4075,    0],\n",
    "       [ 278, 7927,    0],\n",
    "       [ 110,  831,    0]])"
   ]
  },
  {
   "cell_type": "code",
   "execution_count": null,
   "metadata": {},
   "outputs": [],
   "source": [
    "forse è colpa delle classi sbilanciate?\n",
    "forse piu feature preprocessing?"
   ]
  }
 ],
 "metadata": {
  "kernelspec": {
   "display_name": "Python 3",
   "language": "python",
   "name": "python3"
  },
  "language_info": {
   "codemirror_mode": {
    "name": "ipython",
    "version": 3
   },
   "file_extension": ".py",
   "mimetype": "text/x-python",
   "name": "python",
   "nbconvert_exporter": "python",
   "pygments_lexer": "ipython3",
   "version": "3.5.2"
  }
 },
 "nbformat": 4,
 "nbformat_minor": 2
}
